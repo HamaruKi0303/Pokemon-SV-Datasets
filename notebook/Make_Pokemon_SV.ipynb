{
 "cells": [
  {
   "cell_type": "markdown",
   "id": "57bc9df8-42cf-45f0-b40b-ffe9ea741207",
   "metadata": {},
   "source": [
    "# Make Pokemon SV Datasets"
   ]
  },
  {
   "cell_type": "markdown",
   "id": "cfbd0d7a",
   "metadata": {},
   "source": []
  },
  {
   "cell_type": "code",
   "execution_count": 56,
   "id": "9323a118-9d94-49b6-ac72-21e1e9677221",
   "metadata": {},
   "outputs": [],
   "source": [
    "import json\n",
    "import pprint\n",
    "from PIL import Image, ImageFilter\n",
    "from PIL import ImageDraw\n",
    "\n",
    "import glob\n",
    "import re\n",
    "import os\n",
    "from loguru import logger\n",
    "from tqdm import tqdm\n",
    "import numpy as np\n",
    "\n",
    "import cv2\n",
    "import sys\n",
    "import shutil"
   ]
  },
  {
   "cell_type": "markdown",
   "id": "46a672ac-5f07-463d-86ba-812844c782b0",
   "metadata": {},
   "source": [
    "## Setting param"
   ]
  },
  {
   "cell_type": "markdown",
   "id": "3d16b14c",
   "metadata": {},
   "source": [
    "データセットのパスや動画のフォルダなどのパラメーターを設定します．"
   ]
  },
  {
   "cell_type": "code",
   "execution_count": 39,
   "id": "f72a9069-6577-4e84-bb7b-d8299f2666f3",
   "metadata": {},
   "outputs": [],
   "source": [
    "capture_dir = \"capture\"\n",
    "capture_video_dir = \"video\"\n",
    "capture_image_dir = \"image\"\n",
    "\n",
    "capture_video_path = capture_dir + \"/\" + capture_video_dir\n",
    "capture_image_path = capture_dir + \"/\" + capture_image_dir\n",
    "\n",
    "root_path = \"/home\"\n",
    "\n",
    "diff_image_th = 1000\n",
    "save_freq     = 4\n",
    "\n",
    "datasets_dir  = \"datasets\"\n",
    "datasets_ver  = \"v0\"\n",
    "datasets_path = datasets_dir + \"/\" + datasets_ver\n",
    "\n",
    "anotate_full = \"datasets/v0/result.json\"\n",
    "anotate_full_repath = \"datasets/v0/result_repath.json\"\n",
    "\n",
    "anotate_train_name = \"pokemon_sv_train.json\"\n",
    "anotate_train_path = datasets_path + \"/\" + anotate_train_name\n",
    "anotate_valid_name = \"pokemon_sv_valid.json\"\n",
    "anotate_valid_path = datasets_path + \"/\" + anotate_valid_name\n",
    "\n",
    "image_full_dir  = \"images\"\n",
    "image_train_dir = \"train2017\"\n",
    "image_valid_dir = \"val2017\""
   ]
  },
  {
   "cell_type": "code",
   "execution_count": 4,
   "id": "3661777c-0afb-4664-b5b4-af713477beb2",
   "metadata": {},
   "outputs": [
    {
     "name": "stdout",
     "output_type": "stream",
     "text": [
      "/home\n"
     ]
    }
   ],
   "source": [
    "%cd $root_path"
   ]
  },
  {
   "cell_type": "code",
   "execution_count": 5,
   "id": "e865b049-6aaf-4ab0-91d6-d6b8df40a66c",
   "metadata": {},
   "outputs": [
    {
     "name": "stdout",
     "output_type": "stream",
     "text": [
      "Dockerfile  capture   docker-compose.yml     notebook\t test.json   utils\n",
      "README.md   datasets  label_studio_exported  sample.txt  train.json\n"
     ]
    }
   ],
   "source": [
    "!ls"
   ]
  },
  {
   "cell_type": "markdown",
   "id": "85793ee2",
   "metadata": {},
   "source": [
    "## キャプチャー動画の分解\n",
    "\n",
    "キャプチャーした動画を分解して画像に変換します．\n",
    "\n",
    "変換のない静止した状態の画像はスキップした上で，`save_freq`フレームごとに画像を保存します．\n"
   ]
  },
  {
   "cell_type": "markdown",
   "id": "0909a5c5",
   "metadata": {},
   "source": [
    "### キャプチャー動画のリストを取得"
   ]
  },
  {
   "cell_type": "code",
   "execution_count": 6,
   "id": "8720db7c-b3d3-4515-91e8-0e022ba36736",
   "metadata": {},
   "outputs": [
    {
     "name": "stdout",
     "output_type": "stream",
     "text": [
      "['capture/video/2022-11-19_11-55-09.mp4']\n"
     ]
    }
   ],
   "source": [
    "glob_path = capture_video_path + \"/*.mp4\"\n",
    "video_list = glob.glob(glob_path, recursive=True)\n",
    "pprint.pprint(video_list)"
   ]
  },
  {
   "cell_type": "markdown",
   "id": "ddb42f2a",
   "metadata": {},
   "source": [
    "### 動画の分解と保存"
   ]
  },
  {
   "cell_type": "code",
   "execution_count": 7,
   "id": "685ab123-aa1a-445a-ad66-cc1bae2683dd",
   "metadata": {},
   "outputs": [],
   "source": [
    "def analysis_video(video_path):\n",
    "    \n",
    "    video_name = video_path.split(\"/\")[-1]\n",
    "    video_single_path = capture_image_path + \"/\" + video_name\n",
    "    logger.info(\"{:>20} : {}\".format(\"video_single_path\", video_single_path))\n",
    "    os.makedirs(video_single_path, exist_ok=True)\n",
    "       \n",
    "    \n",
    "    cap = cv2.VideoCapture(video_path)\n",
    "    \n",
    "    count = 0\n",
    "    image_id = 1\n",
    "    \n",
    "    while True:\n",
    "        ret, frame = cap.read()\n",
    "\n",
    "        # 読み込み可能かどうか判定\n",
    "        if ret:\n",
    "            logger.info(\"========================\")\n",
    "            logger.info(\"{:>20} : {}\".format(\"count\", count))\n",
    "            \n",
    "            # 0番目は pre frameに登録のみで処理はskip\n",
    "            if(count==0):\n",
    "                pre_frame = frame\n",
    "            else:\n",
    "                # 0番目以降は処理\n",
    "                \n",
    "                # 差分を計算\n",
    "                diff_image = np.sum(np.abs(pre_frame - frame))\n",
    "                logger.info(\"{:>20} : {}\".format(\"diff_image\", diff_image))\n",
    "                \n",
    "                # 閾値以上なら処理する\n",
    "                if(diff_image > diff_image_th):\n",
    "                    # 一定間隔で画像を保存\n",
    "                    if(image_id % save_freq == 0):\n",
    "                        save_image_name = \"{:09d}.jpg\".format(image_id)\n",
    "                        save_image_path = video_single_path + \"/\" + save_image_name\n",
    "                        logger.info(\"{:>20} : {}\".format(\"save_image_path\", save_image_path))\n",
    "                        cv2.imwrite(save_image_path, frame)\n",
    "                                                          \n",
    "                    image_id += 1\n",
    "                pre_frame = frame\n",
    "                \n",
    "                \n",
    "            count += 1\n",
    "        else:\n",
    "            logger.info(\"Video Fin ...\")\n",
    "            break\n",
    "            \n",
    "        "
   ]
  },
  {
   "cell_type": "code",
   "execution_count": 8,
   "id": "9de4c68e-47cc-433b-806b-c1a1dc1fbf75",
   "metadata": {},
   "outputs": [],
   "source": [
    "def video_section():\n",
    "    for video_path in video_list:\n",
    "        logger.info(\"{:>20} : {}\".format(\"video_path\", video_path))\n",
    "        analysis_video(video_path)"
   ]
  },
  {
   "cell_type": "code",
   "execution_count": 9,
   "id": "0bbf04f9-4059-4150-a320-223867599a69",
   "metadata": {},
   "outputs": [],
   "source": [
    "#video_section()"
   ]
  },
  {
   "cell_type": "markdown",
   "id": "21d4bf62",
   "metadata": {},
   "source": [
    "## 画像をアノテーション"
   ]
  },
  {
   "cell_type": "markdown",
   "id": "ac59703c",
   "metadata": {},
   "source": [
    "## アノテーションファイルの修正\n",
    "\n",
    "exportされたアノテーションファイル`datasets\\v0\\result.json`は画像のパスが`COCO`フォーマットになっていないので修正します．\n",
    "\n"
   ]
  },
  {
   "cell_type": "markdown",
   "id": "971dc372",
   "metadata": {},
   "source": [
    "読み込みます"
   ]
  },
  {
   "cell_type": "code",
   "execution_count": 23,
   "id": "db6050eb-3cce-461b-859f-908885a1ddc2",
   "metadata": {},
   "outputs": [],
   "source": [
    "with open(anotate_full, 'rt', encoding='UTF-8') as annotations:\n",
    "    result_coco = json.load(annotations)"
   ]
  },
  {
   "cell_type": "markdown",
   "id": "b1cb3671",
   "metadata": {},
   "source": [
    "パスを修正しファイル名にします．"
   ]
  },
  {
   "cell_type": "code",
   "execution_count": 24,
   "id": "a8e08bc7-9a11-44fa-af09-74c62e8549b6",
   "metadata": {},
   "outputs": [],
   "source": [
    "for i in range(len(result_coco[\"images\"])):\n",
    "    file_name = result_coco[\"images\"][i]['file_name']    \n",
    "    result_coco[\"images\"][i]['file_name'] = file_name.split(\"/\")[-1]"
   ]
  },
  {
   "cell_type": "markdown",
   "id": "58b8a18f",
   "metadata": {},
   "source": [
    "書き出します．"
   ]
  },
  {
   "cell_type": "code",
   "execution_count": 25,
   "id": "e0a279e3-b754-4cf2-b3c0-7f8d3324fbaa",
   "metadata": {},
   "outputs": [],
   "source": [
    "with open(anotate_full_repath, 'wt', encoding='UTF-8') as coco:\n",
    "        json.dump(result_coco, coco, indent=2, sort_keys=True)"
   ]
  },
  {
   "cell_type": "markdown",
   "id": "921c6d69",
   "metadata": {},
   "source": [
    "## データセットの split"
   ]
  },
  {
   "cell_type": "markdown",
   "id": "1ef36e6a",
   "metadata": {},
   "source": [
    "データセットの分割します．"
   ]
  },
  {
   "cell_type": "code",
   "execution_count": 26,
   "id": "0cc28120-ce93-414a-8953-64ecd03d9ca5",
   "metadata": {},
   "outputs": [
    {
     "name": "stdout",
     "output_type": "stream",
     "text": [
      "Saved 87 entries in datasets/v0/pokemon_sv_train.json and 22 in datasets/v0/pokemon_sv_valid.json\n"
     ]
    }
   ],
   "source": [
    "!python utils/cocosplit.py --having-annotations --multi-class -s 0.8 $anotate_full_repath $anotate_train_path $anotate_valid_path"
   ]
  },
  {
   "cell_type": "code",
   "execution_count": 59,
   "id": "3e97fadb-0625-497b-9917-6a624abd04e3",
   "metadata": {},
   "outputs": [],
   "source": [
    "def move_datasets_image_file(target_dir, anno_path):\n",
    "    \n",
    "    logger.info(\"{:>20} : {}\".format(\"target_dir\", target_dir))\n",
    "    logger.info(\"{:>20} : {}\".format(\"anno_path\", anno_path))\n",
    "    os.makedirs(target_dir, exist_ok=True)\n",
    "    \n",
    "    with open(anno_path, 'rt', encoding='UTF-8') as annotations:\n",
    "        result_coco = json.load(annotations)\n",
    "\n",
    "    for i in range(len(result_coco[\"images\"])):\n",
    "        logger.info(\">>>>>>>>>>>> {:>20} : {}\".format(\"i\", i))\n",
    "        \n",
    "        file_name = result_coco[\"images\"][i]['file_name']   \n",
    "        logger.info(\"{:>20} : {}\".format(\"file_name\", file_name))\n",
    "        \n",
    "        source_path =  datasets_path + \"/\" + image_full_dir + \"/\" + file_name\n",
    "        logger.info(\"{:>20} : {}\".format(\"source_path\", source_path))\n",
    "        \n",
    "        target_path =  target_dir + \"/\" + file_name\n",
    "        logger.info(\"{:>20} : {}\".format(\"target_path\", target_path))\n",
    "        \n",
    "        shutil.copyfile(source_path, target_path)\n",
    "        \n",
    "    #pprint.pprint(result_coco)"
   ]
  },
  {
   "cell_type": "code",
   "execution_count": 60,
   "id": "a36b47ee-ed03-4d13-af51-551004c9f761",
   "metadata": {},
   "outputs": [
    {
     "name": "stderr",
     "output_type": "stream",
     "text": [
      "2022-11-19 05:37:55.699 | INFO     | __main__:move_datasets_image_file:3 -           target_dir : datasets/v0/train2017\n",
      "2022-11-19 05:37:55.700 | INFO     | __main__:move_datasets_image_file:4 -            anno_path : datasets/v0/pokemon_sv_train.json\n",
      "2022-11-19 05:37:55.711 | INFO     | __main__:move_datasets_image_file:11 - >>>>>>>>>>>>                    i : 0\n",
      "2022-11-19 05:37:55.712 | INFO     | __main__:move_datasets_image_file:14 -            file_name : 67d01f48-000000068.jpg\n",
      "2022-11-19 05:37:55.713 | INFO     | __main__:move_datasets_image_file:17 -          source_path : datasets/v0/images/67d01f48-000000068.jpg\n",
      "2022-11-19 05:37:55.714 | INFO     | __main__:move_datasets_image_file:20 -          target_path : datasets/v0/train2017/67d01f48-000000068.jpg\n",
      "2022-11-19 05:37:55.765 | INFO     | __main__:move_datasets_image_file:11 - >>>>>>>>>>>>                    i : 1\n",
      "2022-11-19 05:37:55.767 | INFO     | __main__:move_datasets_image_file:14 -            file_name : 045754af-000000124.jpg\n",
      "2022-11-19 05:37:55.768 | INFO     | __main__:move_datasets_image_file:17 -          source_path : datasets/v0/images/045754af-000000124.jpg\n",
      "2022-11-19 05:37:55.770 | INFO     | __main__:move_datasets_image_file:20 -          target_path : datasets/v0/train2017/045754af-000000124.jpg\n",
      "2022-11-19 05:37:55.816 | INFO     | __main__:move_datasets_image_file:11 - >>>>>>>>>>>>                    i : 2\n",
      "2022-11-19 05:37:55.817 | INFO     | __main__:move_datasets_image_file:14 -            file_name : 7bc2ad02-000000120.jpg\n",
      "2022-11-19 05:37:55.818 | INFO     | __main__:move_datasets_image_file:17 -          source_path : datasets/v0/images/7bc2ad02-000000120.jpg\n",
      "2022-11-19 05:37:55.819 | INFO     | __main__:move_datasets_image_file:20 -          target_path : datasets/v0/train2017/7bc2ad02-000000120.jpg\n",
      "2022-11-19 05:37:55.863 | INFO     | __main__:move_datasets_image_file:11 - >>>>>>>>>>>>                    i : 3\n",
      "2022-11-19 05:37:55.864 | INFO     | __main__:move_datasets_image_file:14 -            file_name : c374c1d1-000000116.jpg\n",
      "2022-11-19 05:37:55.865 | INFO     | __main__:move_datasets_image_file:17 -          source_path : datasets/v0/images/c374c1d1-000000116.jpg\n",
      "2022-11-19 05:37:55.866 | INFO     | __main__:move_datasets_image_file:20 -          target_path : datasets/v0/train2017/c374c1d1-000000116.jpg\n",
      "2022-11-19 05:37:55.910 | INFO     | __main__:move_datasets_image_file:11 - >>>>>>>>>>>>                    i : 4\n",
      "2022-11-19 05:37:55.911 | INFO     | __main__:move_datasets_image_file:14 -            file_name : 1658a838-000000112.jpg\n",
      "2022-11-19 05:37:55.911 | INFO     | __main__:move_datasets_image_file:17 -          source_path : datasets/v0/images/1658a838-000000112.jpg\n",
      "2022-11-19 05:37:55.912 | INFO     | __main__:move_datasets_image_file:20 -          target_path : datasets/v0/train2017/1658a838-000000112.jpg\n",
      "2022-11-19 05:37:55.958 | INFO     | __main__:move_datasets_image_file:11 - >>>>>>>>>>>>                    i : 5\n",
      "2022-11-19 05:37:55.959 | INFO     | __main__:move_datasets_image_file:14 -            file_name : cc9038c8-000000108.jpg\n",
      "2022-11-19 05:37:55.960 | INFO     | __main__:move_datasets_image_file:17 -          source_path : datasets/v0/images/cc9038c8-000000108.jpg\n",
      "2022-11-19 05:37:55.961 | INFO     | __main__:move_datasets_image_file:20 -          target_path : datasets/v0/train2017/cc9038c8-000000108.jpg\n",
      "2022-11-19 05:37:56.005 | INFO     | __main__:move_datasets_image_file:11 - >>>>>>>>>>>>                    i : 6\n",
      "2022-11-19 05:37:56.006 | INFO     | __main__:move_datasets_image_file:14 -            file_name : c4def748-000000104.jpg\n",
      "2022-11-19 05:37:56.007 | INFO     | __main__:move_datasets_image_file:17 -          source_path : datasets/v0/images/c4def748-000000104.jpg\n",
      "2022-11-19 05:37:56.008 | INFO     | __main__:move_datasets_image_file:20 -          target_path : datasets/v0/train2017/c4def748-000000104.jpg\n",
      "2022-11-19 05:37:56.047 | INFO     | __main__:move_datasets_image_file:11 - >>>>>>>>>>>>                    i : 7\n",
      "2022-11-19 05:37:56.048 | INFO     | __main__:move_datasets_image_file:14 -            file_name : 434f0155-000000100.jpg\n",
      "2022-11-19 05:37:56.049 | INFO     | __main__:move_datasets_image_file:17 -          source_path : datasets/v0/images/434f0155-000000100.jpg\n",
      "2022-11-19 05:37:56.050 | INFO     | __main__:move_datasets_image_file:20 -          target_path : datasets/v0/train2017/434f0155-000000100.jpg\n",
      "2022-11-19 05:37:56.085 | INFO     | __main__:move_datasets_image_file:11 - >>>>>>>>>>>>                    i : 8\n",
      "2022-11-19 05:37:56.086 | INFO     | __main__:move_datasets_image_file:14 -            file_name : 3048621e-000000096.jpg\n",
      "2022-11-19 05:37:56.087 | INFO     | __main__:move_datasets_image_file:17 -          source_path : datasets/v0/images/3048621e-000000096.jpg\n",
      "2022-11-19 05:37:56.088 | INFO     | __main__:move_datasets_image_file:20 -          target_path : datasets/v0/train2017/3048621e-000000096.jpg\n",
      "2022-11-19 05:37:56.129 | INFO     | __main__:move_datasets_image_file:11 - >>>>>>>>>>>>                    i : 9\n",
      "2022-11-19 05:37:56.130 | INFO     | __main__:move_datasets_image_file:14 -            file_name : f4a6c0f3-000000092.jpg\n",
      "2022-11-19 05:37:56.131 | INFO     | __main__:move_datasets_image_file:17 -          source_path : datasets/v0/images/f4a6c0f3-000000092.jpg\n",
      "2022-11-19 05:37:56.132 | INFO     | __main__:move_datasets_image_file:20 -          target_path : datasets/v0/train2017/f4a6c0f3-000000092.jpg\n",
      "2022-11-19 05:37:56.182 | INFO     | __main__:move_datasets_image_file:11 - >>>>>>>>>>>>                    i : 10\n",
      "2022-11-19 05:37:56.183 | INFO     | __main__:move_datasets_image_file:14 -            file_name : d1d78546-000000088.jpg\n",
      "2022-11-19 05:37:56.183 | INFO     | __main__:move_datasets_image_file:17 -          source_path : datasets/v0/images/d1d78546-000000088.jpg\n",
      "2022-11-19 05:37:56.185 | INFO     | __main__:move_datasets_image_file:20 -          target_path : datasets/v0/train2017/d1d78546-000000088.jpg\n",
      "2022-11-19 05:37:56.238 | INFO     | __main__:move_datasets_image_file:11 - >>>>>>>>>>>>                    i : 11\n",
      "2022-11-19 05:37:56.239 | INFO     | __main__:move_datasets_image_file:14 -            file_name : d8a5a419-000000084.jpg\n",
      "2022-11-19 05:37:56.240 | INFO     | __main__:move_datasets_image_file:17 -          source_path : datasets/v0/images/d8a5a419-000000084.jpg\n",
      "2022-11-19 05:37:56.241 | INFO     | __main__:move_datasets_image_file:20 -          target_path : datasets/v0/train2017/d8a5a419-000000084.jpg\n",
      "2022-11-19 05:37:56.284 | INFO     | __main__:move_datasets_image_file:11 - >>>>>>>>>>>>                    i : 12\n",
      "2022-11-19 05:37:56.286 | INFO     | __main__:move_datasets_image_file:14 -            file_name : e3b48321-000000080.jpg\n",
      "2022-11-19 05:37:56.287 | INFO     | __main__:move_datasets_image_file:17 -          source_path : datasets/v0/images/e3b48321-000000080.jpg\n",
      "2022-11-19 05:37:56.288 | INFO     | __main__:move_datasets_image_file:20 -          target_path : datasets/v0/train2017/e3b48321-000000080.jpg\n",
      "2022-11-19 05:37:56.331 | INFO     | __main__:move_datasets_image_file:11 - >>>>>>>>>>>>                    i : 13\n",
      "2022-11-19 05:37:56.332 | INFO     | __main__:move_datasets_image_file:14 -            file_name : 57a35916-000000076.jpg\n",
      "2022-11-19 05:37:56.333 | INFO     | __main__:move_datasets_image_file:17 -          source_path : datasets/v0/images/57a35916-000000076.jpg\n",
      "2022-11-19 05:37:56.333 | INFO     | __main__:move_datasets_image_file:20 -          target_path : datasets/v0/train2017/57a35916-000000076.jpg\n",
      "2022-11-19 05:37:56.377 | INFO     | __main__:move_datasets_image_file:11 - >>>>>>>>>>>>                    i : 14\n",
      "2022-11-19 05:37:56.378 | INFO     | __main__:move_datasets_image_file:14 -            file_name : 2f99697f-000000072.jpg\n",
      "2022-11-19 05:37:56.378 | INFO     | __main__:move_datasets_image_file:17 -          source_path : datasets/v0/images/2f99697f-000000072.jpg\n",
      "2022-11-19 05:37:56.379 | INFO     | __main__:move_datasets_image_file:20 -          target_path : datasets/v0/train2017/2f99697f-000000072.jpg\n",
      "2022-11-19 05:37:56.425 | INFO     | __main__:move_datasets_image_file:11 - >>>>>>>>>>>>                    i : 15\n",
      "2022-11-19 05:37:56.426 | INFO     | __main__:move_datasets_image_file:14 -            file_name : 6ae2f8d6-000000064.jpg\n",
      "2022-11-19 05:37:56.427 | INFO     | __main__:move_datasets_image_file:17 -          source_path : datasets/v0/images/6ae2f8d6-000000064.jpg\n",
      "2022-11-19 05:37:56.428 | INFO     | __main__:move_datasets_image_file:20 -          target_path : datasets/v0/train2017/6ae2f8d6-000000064.jpg\n",
      "2022-11-19 05:37:56.474 | INFO     | __main__:move_datasets_image_file:11 - >>>>>>>>>>>>                    i : 16\n",
      "2022-11-19 05:37:56.475 | INFO     | __main__:move_datasets_image_file:14 -            file_name : 75f12110-000000060.jpg\n",
      "2022-11-19 05:37:56.476 | INFO     | __main__:move_datasets_image_file:17 -          source_path : datasets/v0/images/75f12110-000000060.jpg\n",
      "2022-11-19 05:37:56.476 | INFO     | __main__:move_datasets_image_file:20 -          target_path : datasets/v0/train2017/75f12110-000000060.jpg\n",
      "2022-11-19 05:37:56.523 | INFO     | __main__:move_datasets_image_file:11 - >>>>>>>>>>>>                    i : 17\n",
      "2022-11-19 05:37:56.524 | INFO     | __main__:move_datasets_image_file:14 -            file_name : 933b191b-000000056.jpg\n",
      "2022-11-19 05:37:56.524 | INFO     | __main__:move_datasets_image_file:17 -          source_path : datasets/v0/images/933b191b-000000056.jpg\n",
      "2022-11-19 05:37:56.525 | INFO     | __main__:move_datasets_image_file:20 -          target_path : datasets/v0/train2017/933b191b-000000056.jpg\n",
      "2022-11-19 05:37:56.568 | INFO     | __main__:move_datasets_image_file:11 - >>>>>>>>>>>>                    i : 18\n",
      "2022-11-19 05:37:56.570 | INFO     | __main__:move_datasets_image_file:14 -            file_name : 21f44e65-000000052.jpg\n",
      "2022-11-19 05:37:56.571 | INFO     | __main__:move_datasets_image_file:17 -          source_path : datasets/v0/images/21f44e65-000000052.jpg\n",
      "2022-11-19 05:37:56.572 | INFO     | __main__:move_datasets_image_file:20 -          target_path : datasets/v0/train2017/21f44e65-000000052.jpg\n",
      "2022-11-19 05:37:56.617 | INFO     | __main__:move_datasets_image_file:11 - >>>>>>>>>>>>                    i : 19\n",
      "2022-11-19 05:37:56.617 | INFO     | __main__:move_datasets_image_file:14 -            file_name : db0285a4-000000048.jpg\n",
      "2022-11-19 05:37:56.618 | INFO     | __main__:move_datasets_image_file:17 -          source_path : datasets/v0/images/db0285a4-000000048.jpg\n",
      "2022-11-19 05:37:56.620 | INFO     | __main__:move_datasets_image_file:20 -          target_path : datasets/v0/train2017/db0285a4-000000048.jpg\n",
      "2022-11-19 05:37:56.663 | INFO     | __main__:move_datasets_image_file:11 - >>>>>>>>>>>>                    i : 20\n",
      "2022-11-19 05:37:56.664 | INFO     | __main__:move_datasets_image_file:14 -            file_name : 0bae380e-000000044.jpg\n",
      "2022-11-19 05:37:56.664 | INFO     | __main__:move_datasets_image_file:17 -          source_path : datasets/v0/images/0bae380e-000000044.jpg\n",
      "2022-11-19 05:37:56.665 | INFO     | __main__:move_datasets_image_file:20 -          target_path : datasets/v0/train2017/0bae380e-000000044.jpg\n",
      "2022-11-19 05:37:56.717 | INFO     | __main__:move_datasets_image_file:11 - >>>>>>>>>>>>                    i : 21\n",
      "2022-11-19 05:37:56.718 | INFO     | __main__:move_datasets_image_file:14 -            file_name : 0a8d7fce-000000040.jpg\n",
      "2022-11-19 05:37:56.719 | INFO     | __main__:move_datasets_image_file:17 -          source_path : datasets/v0/images/0a8d7fce-000000040.jpg\n",
      "2022-11-19 05:37:56.721 | INFO     | __main__:move_datasets_image_file:20 -          target_path : datasets/v0/train2017/0a8d7fce-000000040.jpg\n",
      "2022-11-19 05:37:56.769 | INFO     | __main__:move_datasets_image_file:11 - >>>>>>>>>>>>                    i : 22\n",
      "2022-11-19 05:37:56.770 | INFO     | __main__:move_datasets_image_file:14 -            file_name : 2535401d-000000036.jpg\n",
      "2022-11-19 05:37:56.771 | INFO     | __main__:move_datasets_image_file:17 -          source_path : datasets/v0/images/2535401d-000000036.jpg\n",
      "2022-11-19 05:37:56.771 | INFO     | __main__:move_datasets_image_file:20 -          target_path : datasets/v0/train2017/2535401d-000000036.jpg\n",
      "2022-11-19 05:37:56.814 | INFO     | __main__:move_datasets_image_file:11 - >>>>>>>>>>>>                    i : 23\n",
      "2022-11-19 05:37:56.815 | INFO     | __main__:move_datasets_image_file:14 -            file_name : c1d2cb32-000000032.jpg\n",
      "2022-11-19 05:37:56.816 | INFO     | __main__:move_datasets_image_file:17 -          source_path : datasets/v0/images/c1d2cb32-000000032.jpg\n",
      "2022-11-19 05:37:56.816 | INFO     | __main__:move_datasets_image_file:20 -          target_path : datasets/v0/train2017/c1d2cb32-000000032.jpg\n",
      "2022-11-19 05:37:56.861 | INFO     | __main__:move_datasets_image_file:11 - >>>>>>>>>>>>                    i : 24\n",
      "2022-11-19 05:37:56.862 | INFO     | __main__:move_datasets_image_file:14 -            file_name : 5aae9b2d-000000028.jpg\n",
      "2022-11-19 05:37:56.862 | INFO     | __main__:move_datasets_image_file:17 -          source_path : datasets/v0/images/5aae9b2d-000000028.jpg\n",
      "2022-11-19 05:37:56.863 | INFO     | __main__:move_datasets_image_file:20 -          target_path : datasets/v0/train2017/5aae9b2d-000000028.jpg\n",
      "2022-11-19 05:37:56.914 | INFO     | __main__:move_datasets_image_file:11 - >>>>>>>>>>>>                    i : 25\n",
      "2022-11-19 05:37:56.915 | INFO     | __main__:move_datasets_image_file:14 -            file_name : d8910854-000000024.jpg\n",
      "2022-11-19 05:37:56.915 | INFO     | __main__:move_datasets_image_file:17 -          source_path : datasets/v0/images/d8910854-000000024.jpg\n",
      "2022-11-19 05:37:56.916 | INFO     | __main__:move_datasets_image_file:20 -          target_path : datasets/v0/train2017/d8910854-000000024.jpg\n",
      "2022-11-19 05:37:56.965 | INFO     | __main__:move_datasets_image_file:11 - >>>>>>>>>>>>                    i : 26\n",
      "2022-11-19 05:37:56.966 | INFO     | __main__:move_datasets_image_file:14 -            file_name : 1e703cb1-000000020.jpg\n",
      "2022-11-19 05:37:56.966 | INFO     | __main__:move_datasets_image_file:17 -          source_path : datasets/v0/images/1e703cb1-000000020.jpg\n",
      "2022-11-19 05:37:56.967 | INFO     | __main__:move_datasets_image_file:20 -          target_path : datasets/v0/train2017/1e703cb1-000000020.jpg\n",
      "2022-11-19 05:37:57.013 | INFO     | __main__:move_datasets_image_file:11 - >>>>>>>>>>>>                    i : 27\n",
      "2022-11-19 05:37:57.014 | INFO     | __main__:move_datasets_image_file:14 -            file_name : ad9dd54e-000000016.jpg\n",
      "2022-11-19 05:37:57.015 | INFO     | __main__:move_datasets_image_file:17 -          source_path : datasets/v0/images/ad9dd54e-000000016.jpg\n",
      "2022-11-19 05:37:57.015 | INFO     | __main__:move_datasets_image_file:20 -          target_path : datasets/v0/train2017/ad9dd54e-000000016.jpg\n",
      "2022-11-19 05:37:57.063 | INFO     | __main__:move_datasets_image_file:11 - >>>>>>>>>>>>                    i : 28\n",
      "2022-11-19 05:37:57.064 | INFO     | __main__:move_datasets_image_file:14 -            file_name : b48dba86-000000012.jpg\n",
      "2022-11-19 05:37:57.065 | INFO     | __main__:move_datasets_image_file:17 -          source_path : datasets/v0/images/b48dba86-000000012.jpg\n",
      "2022-11-19 05:37:57.066 | INFO     | __main__:move_datasets_image_file:20 -          target_path : datasets/v0/train2017/b48dba86-000000012.jpg\n",
      "2022-11-19 05:37:57.110 | INFO     | __main__:move_datasets_image_file:11 - >>>>>>>>>>>>                    i : 29\n",
      "2022-11-19 05:37:57.111 | INFO     | __main__:move_datasets_image_file:14 -            file_name : 44ca9f17-000000008.jpg\n",
      "2022-11-19 05:37:57.112 | INFO     | __main__:move_datasets_image_file:17 -          source_path : datasets/v0/images/44ca9f17-000000008.jpg\n",
      "2022-11-19 05:37:57.112 | INFO     | __main__:move_datasets_image_file:20 -          target_path : datasets/v0/train2017/44ca9f17-000000008.jpg\n",
      "2022-11-19 05:37:57.152 | INFO     | __main__:move_datasets_image_file:11 - >>>>>>>>>>>>                    i : 30\n",
      "2022-11-19 05:37:57.154 | INFO     | __main__:move_datasets_image_file:14 -            file_name : 0d4c392e-000000004.jpg\n",
      "2022-11-19 05:37:57.155 | INFO     | __main__:move_datasets_image_file:17 -          source_path : datasets/v0/images/0d4c392e-000000004.jpg\n",
      "2022-11-19 05:37:57.156 | INFO     | __main__:move_datasets_image_file:20 -          target_path : datasets/v0/train2017/0d4c392e-000000004.jpg\n"
     ]
    }
   ],
   "source": [
    "move_datasets_image_file(target_dir=datasets_path + \"/\" + image_train_dir, anno_path=anotate_train_path)"
   ]
  },
  {
   "cell_type": "code",
   "execution_count": 61,
   "id": "3ac931f6-f7d2-4657-b23a-2573621fc2b8",
   "metadata": {},
   "outputs": [
    {
     "name": "stderr",
     "output_type": "stream",
     "text": [
      "2022-11-19 05:37:57.201 | INFO     | __main__:move_datasets_image_file:3 -           target_dir : datasets/v0/val2017\n",
      "2022-11-19 05:37:57.203 | INFO     | __main__:move_datasets_image_file:4 -            anno_path : datasets/v0/pokemon_sv_valid.json\n",
      "2022-11-19 05:37:57.214 | INFO     | __main__:move_datasets_image_file:11 - >>>>>>>>>>>>                    i : 0\n",
      "2022-11-19 05:37:57.215 | INFO     | __main__:move_datasets_image_file:14 -            file_name : 67d01f48-000000068.jpg\n",
      "2022-11-19 05:37:57.216 | INFO     | __main__:move_datasets_image_file:17 -          source_path : datasets/v0/images/67d01f48-000000068.jpg\n",
      "2022-11-19 05:37:57.218 | INFO     | __main__:move_datasets_image_file:20 -          target_path : datasets/v0/val2017/67d01f48-000000068.jpg\n",
      "2022-11-19 05:37:57.260 | INFO     | __main__:move_datasets_image_file:11 - >>>>>>>>>>>>                    i : 1\n",
      "2022-11-19 05:37:57.261 | INFO     | __main__:move_datasets_image_file:14 -            file_name : 045754af-000000124.jpg\n",
      "2022-11-19 05:37:57.262 | INFO     | __main__:move_datasets_image_file:17 -          source_path : datasets/v0/images/045754af-000000124.jpg\n",
      "2022-11-19 05:37:57.263 | INFO     | __main__:move_datasets_image_file:20 -          target_path : datasets/v0/val2017/045754af-000000124.jpg\n",
      "2022-11-19 05:37:57.301 | INFO     | __main__:move_datasets_image_file:11 - >>>>>>>>>>>>                    i : 2\n",
      "2022-11-19 05:37:57.302 | INFO     | __main__:move_datasets_image_file:14 -            file_name : 7bc2ad02-000000120.jpg\n",
      "2022-11-19 05:37:57.303 | INFO     | __main__:move_datasets_image_file:17 -          source_path : datasets/v0/images/7bc2ad02-000000120.jpg\n",
      "2022-11-19 05:37:57.304 | INFO     | __main__:move_datasets_image_file:20 -          target_path : datasets/v0/val2017/7bc2ad02-000000120.jpg\n",
      "2022-11-19 05:37:57.343 | INFO     | __main__:move_datasets_image_file:11 - >>>>>>>>>>>>                    i : 3\n",
      "2022-11-19 05:37:57.343 | INFO     | __main__:move_datasets_image_file:14 -            file_name : c374c1d1-000000116.jpg\n",
      "2022-11-19 05:37:57.344 | INFO     | __main__:move_datasets_image_file:17 -          source_path : datasets/v0/images/c374c1d1-000000116.jpg\n",
      "2022-11-19 05:37:57.345 | INFO     | __main__:move_datasets_image_file:20 -          target_path : datasets/v0/val2017/c374c1d1-000000116.jpg\n",
      "2022-11-19 05:37:57.384 | INFO     | __main__:move_datasets_image_file:11 - >>>>>>>>>>>>                    i : 4\n",
      "2022-11-19 05:37:57.385 | INFO     | __main__:move_datasets_image_file:14 -            file_name : 1658a838-000000112.jpg\n",
      "2022-11-19 05:37:57.385 | INFO     | __main__:move_datasets_image_file:17 -          source_path : datasets/v0/images/1658a838-000000112.jpg\n",
      "2022-11-19 05:37:57.386 | INFO     | __main__:move_datasets_image_file:20 -          target_path : datasets/v0/val2017/1658a838-000000112.jpg\n",
      "2022-11-19 05:37:57.428 | INFO     | __main__:move_datasets_image_file:11 - >>>>>>>>>>>>                    i : 5\n",
      "2022-11-19 05:37:57.428 | INFO     | __main__:move_datasets_image_file:14 -            file_name : cc9038c8-000000108.jpg\n",
      "2022-11-19 05:37:57.429 | INFO     | __main__:move_datasets_image_file:17 -          source_path : datasets/v0/images/cc9038c8-000000108.jpg\n",
      "2022-11-19 05:37:57.430 | INFO     | __main__:move_datasets_image_file:20 -          target_path : datasets/v0/val2017/cc9038c8-000000108.jpg\n",
      "2022-11-19 05:37:57.468 | INFO     | __main__:move_datasets_image_file:11 - >>>>>>>>>>>>                    i : 6\n",
      "2022-11-19 05:37:57.471 | INFO     | __main__:move_datasets_image_file:14 -            file_name : c4def748-000000104.jpg\n",
      "2022-11-19 05:37:57.472 | INFO     | __main__:move_datasets_image_file:17 -          source_path : datasets/v0/images/c4def748-000000104.jpg\n",
      "2022-11-19 05:37:57.472 | INFO     | __main__:move_datasets_image_file:20 -          target_path : datasets/v0/val2017/c4def748-000000104.jpg\n",
      "2022-11-19 05:37:57.510 | INFO     | __main__:move_datasets_image_file:11 - >>>>>>>>>>>>                    i : 7\n",
      "2022-11-19 05:37:57.511 | INFO     | __main__:move_datasets_image_file:14 -            file_name : 434f0155-000000100.jpg\n",
      "2022-11-19 05:37:57.512 | INFO     | __main__:move_datasets_image_file:17 -          source_path : datasets/v0/images/434f0155-000000100.jpg\n",
      "2022-11-19 05:37:57.512 | INFO     | __main__:move_datasets_image_file:20 -          target_path : datasets/v0/val2017/434f0155-000000100.jpg\n",
      "2022-11-19 05:37:57.552 | INFO     | __main__:move_datasets_image_file:11 - >>>>>>>>>>>>                    i : 8\n",
      "2022-11-19 05:37:57.553 | INFO     | __main__:move_datasets_image_file:14 -            file_name : 3048621e-000000096.jpg\n",
      "2022-11-19 05:37:57.554 | INFO     | __main__:move_datasets_image_file:17 -          source_path : datasets/v0/images/3048621e-000000096.jpg\n",
      "2022-11-19 05:37:57.555 | INFO     | __main__:move_datasets_image_file:20 -          target_path : datasets/v0/val2017/3048621e-000000096.jpg\n",
      "2022-11-19 05:37:57.594 | INFO     | __main__:move_datasets_image_file:11 - >>>>>>>>>>>>                    i : 9\n",
      "2022-11-19 05:37:57.595 | INFO     | __main__:move_datasets_image_file:14 -            file_name : f4a6c0f3-000000092.jpg\n",
      "2022-11-19 05:37:57.595 | INFO     | __main__:move_datasets_image_file:17 -          source_path : datasets/v0/images/f4a6c0f3-000000092.jpg\n",
      "2022-11-19 05:37:57.596 | INFO     | __main__:move_datasets_image_file:20 -          target_path : datasets/v0/val2017/f4a6c0f3-000000092.jpg\n",
      "2022-11-19 05:37:57.631 | INFO     | __main__:move_datasets_image_file:11 - >>>>>>>>>>>>                    i : 10\n",
      "2022-11-19 05:37:57.633 | INFO     | __main__:move_datasets_image_file:14 -            file_name : d1d78546-000000088.jpg\n",
      "2022-11-19 05:37:57.633 | INFO     | __main__:move_datasets_image_file:17 -          source_path : datasets/v0/images/d1d78546-000000088.jpg\n",
      "2022-11-19 05:37:57.634 | INFO     | __main__:move_datasets_image_file:20 -          target_path : datasets/v0/val2017/d1d78546-000000088.jpg\n",
      "2022-11-19 05:37:57.675 | INFO     | __main__:move_datasets_image_file:11 - >>>>>>>>>>>>                    i : 11\n",
      "2022-11-19 05:37:57.676 | INFO     | __main__:move_datasets_image_file:14 -            file_name : d8a5a419-000000084.jpg\n",
      "2022-11-19 05:37:57.676 | INFO     | __main__:move_datasets_image_file:17 -          source_path : datasets/v0/images/d8a5a419-000000084.jpg\n",
      "2022-11-19 05:37:57.677 | INFO     | __main__:move_datasets_image_file:20 -          target_path : datasets/v0/val2017/d8a5a419-000000084.jpg\n",
      "2022-11-19 05:37:57.717 | INFO     | __main__:move_datasets_image_file:11 - >>>>>>>>>>>>                    i : 12\n",
      "2022-11-19 05:37:57.718 | INFO     | __main__:move_datasets_image_file:14 -            file_name : e3b48321-000000080.jpg\n",
      "2022-11-19 05:37:57.718 | INFO     | __main__:move_datasets_image_file:17 -          source_path : datasets/v0/images/e3b48321-000000080.jpg\n",
      "2022-11-19 05:37:57.719 | INFO     | __main__:move_datasets_image_file:20 -          target_path : datasets/v0/val2017/e3b48321-000000080.jpg\n",
      "2022-11-19 05:37:57.760 | INFO     | __main__:move_datasets_image_file:11 - >>>>>>>>>>>>                    i : 13\n",
      "2022-11-19 05:37:57.761 | INFO     | __main__:move_datasets_image_file:14 -            file_name : db0285a4-000000048.jpg\n",
      "2022-11-19 05:37:57.762 | INFO     | __main__:move_datasets_image_file:17 -          source_path : datasets/v0/images/db0285a4-000000048.jpg\n",
      "2022-11-19 05:37:57.762 | INFO     | __main__:move_datasets_image_file:20 -          target_path : datasets/v0/val2017/db0285a4-000000048.jpg\n",
      "2022-11-19 05:37:57.802 | INFO     | __main__:move_datasets_image_file:11 - >>>>>>>>>>>>                    i : 14\n",
      "2022-11-19 05:37:57.803 | INFO     | __main__:move_datasets_image_file:14 -            file_name : 0a8d7fce-000000040.jpg\n",
      "2022-11-19 05:37:57.804 | INFO     | __main__:move_datasets_image_file:17 -          source_path : datasets/v0/images/0a8d7fce-000000040.jpg\n",
      "2022-11-19 05:37:57.805 | INFO     | __main__:move_datasets_image_file:20 -          target_path : datasets/v0/val2017/0a8d7fce-000000040.jpg\n",
      "2022-11-19 05:37:57.847 | INFO     | __main__:move_datasets_image_file:11 - >>>>>>>>>>>>                    i : 15\n",
      "2022-11-19 05:37:57.848 | INFO     | __main__:move_datasets_image_file:14 -            file_name : 2535401d-000000036.jpg\n",
      "2022-11-19 05:37:57.848 | INFO     | __main__:move_datasets_image_file:17 -          source_path : datasets/v0/images/2535401d-000000036.jpg\n",
      "2022-11-19 05:37:57.849 | INFO     | __main__:move_datasets_image_file:20 -          target_path : datasets/v0/val2017/2535401d-000000036.jpg\n",
      "2022-11-19 05:37:57.891 | INFO     | __main__:move_datasets_image_file:11 - >>>>>>>>>>>>                    i : 16\n",
      "2022-11-19 05:37:57.892 | INFO     | __main__:move_datasets_image_file:14 -            file_name : ad9dd54e-000000016.jpg\n",
      "2022-11-19 05:37:57.893 | INFO     | __main__:move_datasets_image_file:17 -          source_path : datasets/v0/images/ad9dd54e-000000016.jpg\n",
      "2022-11-19 05:37:57.894 | INFO     | __main__:move_datasets_image_file:20 -          target_path : datasets/v0/val2017/ad9dd54e-000000016.jpg\n",
      "2022-11-19 05:37:57.932 | INFO     | __main__:move_datasets_image_file:11 - >>>>>>>>>>>>                    i : 17\n",
      "2022-11-19 05:37:57.933 | INFO     | __main__:move_datasets_image_file:14 -            file_name : 44ca9f17-000000008.jpg\n",
      "2022-11-19 05:37:57.934 | INFO     | __main__:move_datasets_image_file:17 -          source_path : datasets/v0/images/44ca9f17-000000008.jpg\n",
      "2022-11-19 05:37:57.935 | INFO     | __main__:move_datasets_image_file:20 -          target_path : datasets/v0/val2017/44ca9f17-000000008.jpg\n",
      "2022-11-19 05:37:57.966 | INFO     | __main__:move_datasets_image_file:11 - >>>>>>>>>>>>                    i : 18\n",
      "2022-11-19 05:37:57.967 | INFO     | __main__:move_datasets_image_file:14 -            file_name : 0d4c392e-000000004.jpg\n",
      "2022-11-19 05:37:57.968 | INFO     | __main__:move_datasets_image_file:17 -          source_path : datasets/v0/images/0d4c392e-000000004.jpg\n",
      "2022-11-19 05:37:57.968 | INFO     | __main__:move_datasets_image_file:20 -          target_path : datasets/v0/val2017/0d4c392e-000000004.jpg\n"
     ]
    }
   ],
   "source": [
    "move_datasets_image_file(target_dir=datasets_path + \"/\" + image_valid_dir, anno_path=anotate_valid_path)"
   ]
  },
  {
   "cell_type": "code",
   "execution_count": null,
   "id": "cd371c02-742a-4521-8be9-883dd22d39e0",
   "metadata": {},
   "outputs": [],
   "source": []
  }
 ],
 "metadata": {
  "kernelspec": {
   "display_name": "Python 3 (ipykernel)",
   "language": "python",
   "name": "python3"
  },
  "language_info": {
   "codemirror_mode": {
    "name": "ipython",
    "version": 3
   },
   "file_extension": ".py",
   "mimetype": "text/x-python",
   "name": "python",
   "nbconvert_exporter": "python",
   "pygments_lexer": "ipython3",
   "version": "3.11.0"
  }
 },
 "nbformat": 4,
 "nbformat_minor": 5
}
