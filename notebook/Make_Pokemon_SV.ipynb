{
 "cells": [
  {
   "cell_type": "markdown",
   "id": "57bc9df8-42cf-45f0-b40b-ffe9ea741207",
   "metadata": {},
   "source": [
    "# Make Pokemon SV Datasets"
   ]
  },
  {
   "cell_type": "markdown",
   "id": "cfbd0d7a",
   "metadata": {},
   "source": []
  },
  {
   "cell_type": "code",
   "execution_count": 1,
   "id": "9323a118-9d94-49b6-ac72-21e1e9677221",
   "metadata": {},
   "outputs": [],
   "source": [
    "import json\n",
    "import pprint\n",
    "from PIL import Image, ImageFilter\n",
    "from PIL import ImageDraw\n",
    "\n",
    "import glob\n",
    "import re\n",
    "import os\n",
    "from loguru import logger\n",
    "from tqdm import tqdm\n",
    "import numpy as np\n",
    "\n",
    "import cv2\n",
    "import sys\n",
    "import shutil"
   ]
  },
  {
   "cell_type": "markdown",
   "id": "46a672ac-5f07-463d-86ba-812844c782b0",
   "metadata": {},
   "source": [
    "## Setting param"
   ]
  },
  {
   "cell_type": "markdown",
   "id": "3d16b14c",
   "metadata": {},
   "source": [
    "データセットのパスや動画のフォルダなどのパラメーターを設定します．"
   ]
  },
  {
   "cell_type": "code",
   "execution_count": 87,
   "id": "f72a9069-6577-4e84-bb7b-d8299f2666f3",
   "metadata": {},
   "outputs": [],
   "source": [
    "capture_dir = \"capture\"\n",
    "capture_video_dir = \"video\"\n",
    "capture_image_dir = \"image\"\n",
    "\n",
    "capture_video_path = capture_dir + \"/\" + capture_video_dir\n",
    "capture_image_path = capture_dir + \"/\" + capture_image_dir\n",
    "\n",
    "root_path = \"/home\"\n",
    "\n",
    "#diff_image_th = 1000000\n",
    "diff_image_th = 760000000\n",
    "save_freq     = 100\n",
    "\n",
    "datasets_dir  = \"datasets\"\n",
    "datasets_ver  = \"v1.0\"\n",
    "datasets_path = datasets_dir + \"/\" + datasets_ver\n",
    "\n",
    "anotate_full = datasets_path + \"/result.json\"\n",
    "anotate_full_repath = datasets_path + \"/result_repath.json\"\n",
    "\n",
    "anotate_train_name = \"pokemon_sv_train.json\"\n",
    "anotate_train_path = datasets_path + \"/\" + anotate_train_name\n",
    "anotate_valid_name = \"pokemon_sv_valid.json\"\n",
    "anotate_valid_path = datasets_path + \"/\" + anotate_valid_name\n",
    "\n",
    "image_full_dir  = \"images\"\n",
    "image_train_dir = \"train2017\"\n",
    "image_valid_dir = \"val2017\""
   ]
  },
  {
   "cell_type": "code",
   "execution_count": 86,
   "id": "3661777c-0afb-4664-b5b4-af713477beb2",
   "metadata": {},
   "outputs": [
    {
     "name": "stdout",
     "output_type": "stream",
     "text": [
      "/home\n"
     ]
    }
   ],
   "source": [
    "%cd $root_path"
   ]
  },
  {
   "cell_type": "code",
   "execution_count": 73,
   "id": "e865b049-6aaf-4ab0-91d6-d6b8df40a66c",
   "metadata": {},
   "outputs": [
    {
     "name": "stdout",
     "output_type": "stream",
     "text": [
      "Dockerfile  README.md  capture\tdatasets  docker-compose.yml  notebook\tutils\n"
     ]
    }
   ],
   "source": [
    "!ls"
   ]
  },
  {
   "cell_type": "markdown",
   "id": "85793ee2",
   "metadata": {},
   "source": [
    "## キャプチャー動画の分解\n",
    "\n",
    "キャプチャーした動画を分解して画像に変換します．\n",
    "\n",
    "変換のない静止した状態の画像はスキップした上で，`save_freq`フレームごとに画像を保存します．\n"
   ]
  },
  {
   "cell_type": "markdown",
   "id": "0909a5c5",
   "metadata": {},
   "source": [
    "### キャプチャー動画のリストを取得"
   ]
  },
  {
   "cell_type": "code",
   "execution_count": 74,
   "id": "8720db7c-b3d3-4515-91e8-0e022ba36736",
   "metadata": {},
   "outputs": [
    {
     "name": "stdout",
     "output_type": "stream",
     "text": [
      "['capture/video/2022-11-19 16-34-10.mp4']\n"
     ]
    }
   ],
   "source": [
    "glob_path = capture_video_path + \"/*.mp4\"\n",
    "video_list = glob.glob(glob_path, recursive=True)\n",
    "pprint.pprint(video_list)"
   ]
  },
  {
   "cell_type": "markdown",
   "id": "ddb42f2a",
   "metadata": {},
   "source": [
    "### 動画の分解と保存"
   ]
  },
  {
   "cell_type": "code",
   "execution_count": 76,
   "id": "685ab123-aa1a-445a-ad66-cc1bae2683dd",
   "metadata": {},
   "outputs": [],
   "source": [
    "def analysis_video(video_path):\n",
    "    \n",
    "    video_name = video_path.split(\"/\")[-1]\n",
    "    video_single_path = capture_image_path + \"/\" + video_name\n",
    "    logger.info(\"{:>20} : {}\".format(\"video_single_path\", video_single_path))\n",
    "    os.makedirs(video_single_path, exist_ok=True)\n",
    "       \n",
    "    \n",
    "    cap = cv2.VideoCapture(video_path)\n",
    "    total_frame_count = int(cap.get(cv2.CAP_PROP_FRAME_COUNT))\n",
    "    \n",
    "    count = 0\n",
    "    image_id = 1\n",
    "    \n",
    "    for _ in tqdm(range(total_frame_count)):\n",
    "    #while True:\n",
    "        ret, frame = cap.read()\n",
    "\n",
    "        # 読み込み可能かどうか判定\n",
    "        if ret:\n",
    "            #logger.info(\"========================\")\n",
    "            #logger.info(\"{:>20} : {}\".format(\"count\", count))\n",
    "            \n",
    "            # 0番目は pre frameに登録のみで処理はskip\n",
    "            if(count==0):\n",
    "                pre_frame = frame\n",
    "            else:\n",
    "                # 0番目以降は処理\n",
    "                \n",
    "                if(image_id % save_freq == 0):\n",
    "\n",
    "                    # 差分を計算\n",
    "                    diff_image = np.sum(np.abs(pre_frame - frame))\n",
    "                    #logger.info(\"{:>20} : {}\".format(\"diff_image\", diff_image))\n",
    "\n",
    "                    # 閾値以上なら処理する\n",
    "                    if(diff_image > diff_image_th):\n",
    "                        # 一定間隔で画像を保存\n",
    "                        if(image_id % save_freq == 0):\n",
    "                            save_image_name = \"{:09d}.jpg\".format(image_id)\n",
    "                            save_image_path = video_single_path + \"/\" + save_image_name\n",
    "                            #logger.info(\"{:>20} : {}\".format(\"save_image_path\", save_image_path))\n",
    "                            cv2.imwrite(save_image_path, frame)\n",
    "\n",
    "\n",
    "                    pre_frame = frame\n",
    "                \n",
    "                image_id += 1\n",
    "                \n",
    "                \n",
    "            count += 1\n",
    "        else:\n",
    "            logger.info(\"Video Fin ...\")\n",
    "            break\n",
    "            \n",
    "        "
   ]
  },
  {
   "cell_type": "code",
   "execution_count": 77,
   "id": "9de4c68e-47cc-433b-806b-c1a1dc1fbf75",
   "metadata": {},
   "outputs": [],
   "source": [
    "def video_section():\n",
    "    for video_path in video_list:\n",
    "        logger.info(\"{:>20} : {}\".format(\"video_path\", video_path))\n",
    "        analysis_video(video_path)"
   ]
  },
  {
   "cell_type": "code",
   "execution_count": 78,
   "id": "0bbf04f9-4059-4150-a320-223867599a69",
   "metadata": {},
   "outputs": [
    {
     "name": "stderr",
     "output_type": "stream",
     "text": [
      "2022-11-21 04:22:12.957 | INFO     | __main__:video_section:3 -           video_path : capture/video/2022-11-19 16-34-10.mp4\n",
      "2022-11-21 04:22:12.960 | INFO     | __main__:analysis_video:5 -    video_single_path : capture/image/2022-11-19 16-34-10.mp4\n",
      "100%|█████████▉| 76408/76429 [05:43<00:00, 227.59it/s]2022-11-21 04:27:56.401 | INFO     | __main__:analysis_video:53 - Video Fin ...\n",
      "100%|█████████▉| 76428/76429 [05:43<00:00, 222.63it/s]\n"
     ]
    }
   ],
   "source": [
    "video_section()"
   ]
  },
  {
   "cell_type": "markdown",
   "id": "21d4bf62",
   "metadata": {},
   "source": [
    "## 画像をアノテーション"
   ]
  },
  {
   "cell_type": "markdown",
   "id": "ac59703c",
   "metadata": {},
   "source": [
    "## アノテーションファイルの修正\n",
    "\n",
    "exportされたアノテーションファイル`datasets\\v0\\result.json`は画像のパスが`COCO`フォーマットになっていないので修正します．\n",
    "\n"
   ]
  },
  {
   "cell_type": "markdown",
   "id": "971dc372",
   "metadata": {},
   "source": [
    "anotate_full読み込みます"
   ]
  },
  {
   "cell_type": "code",
   "execution_count": 89,
   "id": "5b56c3bf-7cd9-4b58-bdd3-d218294607a3",
   "metadata": {},
   "outputs": [
    {
     "data": {
      "text/plain": [
       "'datasets/v1.0/result.json'"
      ]
     },
     "execution_count": 89,
     "metadata": {},
     "output_type": "execute_result"
    }
   ],
   "source": [
    "anotate_full"
   ]
  },
  {
   "cell_type": "code",
   "execution_count": 90,
   "id": "db6050eb-3cce-461b-859f-908885a1ddc2",
   "metadata": {},
   "outputs": [],
   "source": [
    "with open(anotate_full, 'rt', encoding='UTF-8') as annotations:\n",
    "    result_coco = json.load(annotations)"
   ]
  },
  {
   "cell_type": "markdown",
   "id": "b1cb3671",
   "metadata": {},
   "source": [
    "パスを修正しファイル名にします．"
   ]
  },
  {
   "cell_type": "code",
   "execution_count": 91,
   "id": "a8e08bc7-9a11-44fa-af09-74c62e8549b6",
   "metadata": {},
   "outputs": [],
   "source": [
    "for i in range(len(result_coco[\"images\"])):\n",
    "    file_name = result_coco[\"images\"][i]['file_name']    \n",
    "    result_coco[\"images\"][i]['file_name'] = file_name.split(\"/\")[-1]"
   ]
  },
  {
   "cell_type": "markdown",
   "id": "58b8a18f",
   "metadata": {},
   "source": [
    "書き出します．"
   ]
  },
  {
   "cell_type": "code",
   "execution_count": 92,
   "id": "e0a279e3-b754-4cf2-b3c0-7f8d3324fbaa",
   "metadata": {},
   "outputs": [],
   "source": [
    "with open(anotate_full_repath, 'wt', encoding='UTF-8') as coco:\n",
    "        json.dump(result_coco, coco, indent=2, sort_keys=True)"
   ]
  },
  {
   "cell_type": "code",
   "execution_count": 93,
   "id": "380db217-2000-4e3e-b809-b6d0c18abe96",
   "metadata": {},
   "outputs": [
    {
     "data": {
      "text/plain": [
       "'datasets/v1.0/result_repath.json'"
      ]
     },
     "execution_count": 93,
     "metadata": {},
     "output_type": "execute_result"
    }
   ],
   "source": [
    "anotate_full_repath"
   ]
  },
  {
   "cell_type": "markdown",
   "id": "921c6d69",
   "metadata": {},
   "source": [
    "## データセットの split"
   ]
  },
  {
   "cell_type": "markdown",
   "id": "1ef36e6a",
   "metadata": {},
   "source": [
    "データセットの分割します．"
   ]
  },
  {
   "cell_type": "code",
   "execution_count": 94,
   "id": "0cc28120-ce93-414a-8953-64ecd03d9ca5",
   "metadata": {},
   "outputs": [
    {
     "name": "stdout",
     "output_type": "stream",
     "text": [
      "Saved 625 entries in datasets/v1.0/pokemon_sv_train.json and 157 in datasets/v1.0/pokemon_sv_valid.json\n"
     ]
    }
   ],
   "source": [
    "!python utils/cocosplit.py --having-annotations --multi-class -s 0.8 $anotate_full_repath $anotate_train_path $anotate_valid_path"
   ]
  },
  {
   "cell_type": "code",
   "execution_count": 100,
   "id": "3e97fadb-0625-497b-9917-6a624abd04e3",
   "metadata": {},
   "outputs": [],
   "source": [
    "def move_datasets_image_file(target_dir, anno_path):\n",
    "    \n",
    "    logger.info(\"{:>20} : {}\".format(\"target_dir\", target_dir))\n",
    "    logger.info(\"{:>20} : {}\".format(\"anno_path\", anno_path))\n",
    "    os.makedirs(target_dir, exist_ok=True)\n",
    "    \n",
    "    with open(anno_path, 'rt', encoding='UTF-8') as annotations:\n",
    "        result_coco = json.load(annotations)\n",
    "\n",
    "    for i in tqdm(range(len(result_coco[\"images\"]))):\n",
    "        #logger.info(\">>>>>>>>>>>> {:>20} : {}\".format(\"i\", i))\n",
    "        \n",
    "        file_name = result_coco[\"images\"][i]['file_name']   \n",
    "        #logger.info(\"{:>20} : {}\".format(\"file_name\", file_name))\n",
    "        \n",
    "        source_path =  datasets_path + \"/\" + image_full_dir + \"/\" + file_name\n",
    "        #logger.info(\"{:>20} : {}\".format(\"source_path\", source_path))\n",
    "        \n",
    "        target_path =  target_dir + \"/\" + file_name\n",
    "        #logger.info(\"{:>20} : {}\".format(\"target_path\", target_path))\n",
    "        \n",
    "        shutil.copyfile(source_path, target_path)\n",
    "        \n",
    "    #pprint.pprint(result_coco)"
   ]
  },
  {
   "cell_type": "code",
   "execution_count": 101,
   "id": "a36b47ee-ed03-4d13-af51-551004c9f761",
   "metadata": {},
   "outputs": [
    {
     "name": "stderr",
     "output_type": "stream",
     "text": [
      "2022-11-21 06:13:47.094 | INFO     | __main__:move_datasets_image_file:3 -           target_dir : datasets/v1.0/train2017\n",
      "2022-11-21 06:13:47.096 | INFO     | __main__:move_datasets_image_file:4 -            anno_path : datasets/v1.0/pokemon_sv_train.json\n",
      "100%|██████████| 268/268 [00:26<00:00, 10.23it/s]\n"
     ]
    }
   ],
   "source": [
    "move_datasets_image_file(target_dir=datasets_path + \"/\" + image_train_dir, anno_path=anotate_train_path)"
   ]
  },
  {
   "cell_type": "code",
   "execution_count": 102,
   "id": "3ac931f6-f7d2-4657-b23a-2573621fc2b8",
   "metadata": {},
   "outputs": [
    {
     "name": "stderr",
     "output_type": "stream",
     "text": [
      "2022-11-21 06:14:13.344 | INFO     | __main__:move_datasets_image_file:3 -           target_dir : datasets/v1.0/val2017\n",
      "2022-11-21 06:14:13.346 | INFO     | __main__:move_datasets_image_file:4 -            anno_path : datasets/v1.0/pokemon_sv_valid.json\n",
      "100%|██████████| 118/118 [00:11<00:00, 10.61it/s]\n"
     ]
    }
   ],
   "source": [
    "move_datasets_image_file(target_dir=datasets_path + \"/\" + image_valid_dir, anno_path=anotate_valid_path)"
   ]
  },
  {
   "cell_type": "code",
   "execution_count": null,
   "id": "cd371c02-742a-4521-8be9-883dd22d39e0",
   "metadata": {},
   "outputs": [],
   "source": []
  }
 ],
 "metadata": {
  "kernelspec": {
   "display_name": "Python 3 (ipykernel)",
   "language": "python",
   "name": "python3"
  },
  "language_info": {
   "codemirror_mode": {
    "name": "ipython",
    "version": 3
   },
   "file_extension": ".py",
   "mimetype": "text/x-python",
   "name": "python",
   "nbconvert_exporter": "python",
   "pygments_lexer": "ipython3",
   "version": "3.11.0"
  }
 },
 "nbformat": 4,
 "nbformat_minor": 5
}
