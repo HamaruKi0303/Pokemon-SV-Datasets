{
 "cells": [
  {
   "cell_type": "markdown",
   "id": "57bc9df8-42cf-45f0-b40b-ffe9ea741207",
   "metadata": {},
   "source": [
    "# Make Pokemon SV Datasets"
   ]
  },
  {
   "cell_type": "code",
   "execution_count": null,
   "id": "9323a118-9d94-49b6-ac72-21e1e9677221",
   "metadata": {},
   "outputs": [],
   "source": [
    "import json\n",
    "import pprint\n",
    "import glob\n",
    "import os\n",
    "from loguru import logger\n",
    "from tqdm import tqdm\n",
    "#from tqdm import tqdm_notebook as tqdm\n",
    "import shutil\n",
    "\n",
    "# image utils\n",
    "import cv2\n",
    "from PIL import Image, ImageFilter\n",
    "from PIL import ImageDraw\n",
    "\n",
    "# data utils\n",
    "import numpy as np\n",
    "import pandas as pd\n",
    "\n",
    "# plot utils\n",
    "import matplotlib.pyplot as plt\n",
    "from matplotlib.colors import rgb2hex\n",
    "\n",
    "# xlm utils\n",
    "from xml.etree.ElementTree import Element, SubElement, ElementTree"
   ]
  },
  {
   "cell_type": "markdown",
   "id": "46a672ac-5f07-463d-86ba-812844c782b0",
   "metadata": {},
   "source": [
    "## Setting param"
   ]
  },
  {
   "cell_type": "markdown",
   "id": "3d16b14c",
   "metadata": {},
   "source": [
    "データセットのパスや動画のフォルダなどのパラメーターを設定します．"
   ]
  },
  {
   "cell_type": "code",
   "execution_count": null,
   "id": "f72a9069-6577-4e84-bb7b-d8299f2666f3",
   "metadata": {},
   "outputs": [],
   "source": [
    "root_path = \"/home/Pokemon-SV\"\n",
    "datasets_root = \"/home/Pokemon-SV-Datasets\"\n",
    "\n",
    "capture_dir = \"capture\"\n",
    "capture_video_dir = \"video\"\n",
    "capture_image_dir = \"image\"\n",
    "\n",
    "capture_video_path = datasets_root  + \"/\" + capture_dir + \"/\" + capture_video_dir\n",
    "capture_image_path = datasets_root  + \"/\" + capture_dir + \"/\" + capture_image_dir\n",
    "\n",
    "diff_image_th1 = 0.50 * 1e9\n",
    "diff_image_th2 = 0.85 * 1e9\n",
    "save_freq     = 100\n",
    "skip_freq     = 100\n",
    "\n",
    "datasets_dir  = \"datasets\"\n",
    "datasets_ver  = \"v2.2\"\n",
    "datasets_path = datasets_root  + \"/\" + datasets_dir + \"/\" + datasets_ver\n",
    "datasets_root_path = datasets_root  + \"/\" + datasets_dir\n",
    "os.makedirs(datasets_path, exist_ok=True)\n",
    "\n",
    "anotate_full = datasets_path + \"/result.json\"\n",
    "anotate_full_repath = datasets_path + \"/result_repath.json\"\n",
    "\n",
    "anotate_train_name = \"pokemon_sv_train.json\"\n",
    "anotate_train_path = datasets_path + \"/\" + anotate_train_name\n",
    "anotate_valid_name = \"pokemon_sv_valid.json\"\n",
    "anotate_valid_path = datasets_path + \"/\" + anotate_valid_name\n",
    "\n",
    "image_full_dir  = \"images\"\n",
    "image_train_dir = \"train2017\"\n",
    "image_valid_dir = \"val2017\"\n",
    "\n",
    "pokemon_list_name = \"pokemon_list.csv\"\n",
    "\n",
    "cm = \"jet\"\n",
    "\n",
    "diff_list_total = []"
   ]
  },
  {
   "cell_type": "markdown",
   "id": "833157b5",
   "metadata": {},
   "source": [
    "`root_path`へ移動しておきます"
   ]
  },
  {
   "cell_type": "code",
   "execution_count": null,
   "id": "3661777c-0afb-4664-b5b4-af713477beb2",
   "metadata": {},
   "outputs": [],
   "source": [
    "%cd $root_path"
   ]
  },
  {
   "cell_type": "markdown",
   "id": "ef8e2999",
   "metadata": {},
   "source": [
    "一応確認"
   ]
  },
  {
   "cell_type": "code",
   "execution_count": null,
   "id": "e865b049-6aaf-4ab0-91d6-d6b8df40a66c",
   "metadata": {},
   "outputs": [],
   "source": [
    "!ls"
   ]
  },
  {
   "cell_type": "markdown",
   "id": "7b70c9f9-ac95-4e07-91ef-40084f15aff6",
   "metadata": {},
   "source": [
    "## パラメーター探索\n",
    "\n",
    "画像間の変化量のパラメータを検索します．ここで探索したパラメーターを元に閾値を設定します．\n"
   ]
  },
  {
   "cell_type": "code",
   "execution_count": 16,
   "id": "943b95c5-41f1-47b7-9146-9de5e6e23378",
   "metadata": {},
   "outputs": [],
   "source": [
    "def param_analysis_video(video_path):\n",
    "    \n",
    "    video_name = video_path.split(\"/\")[-1]\n",
    "    video_single_path = capture_image_path + \"/\" + video_name\n",
    "    logger.info(\"{:>20} : {}\".format(\"video_single_path\", video_single_path))\n",
    "    os.makedirs(video_single_path, exist_ok=True)\n",
    "       \n",
    "    \n",
    "    cap = cv2.VideoCapture(video_path)\n",
    "    total_frame_count = int(cap.get(cv2.CAP_PROP_FRAME_COUNT))\n",
    "    #total_frame_count = 100\n",
    "    \n",
    "    count = 0\n",
    "    image_id = 1\n",
    "    \n",
    "    diff_list = []\n",
    "    image_pix_list = []\n",
    "    \n",
    "    #while True:\n",
    "    for _ in tqdm(range(total_frame_count)):\n",
    "        ret, frame = cap.read()\n",
    "\n",
    "        # 読み込み可能かどうか判定\n",
    "        if ret:\n",
    "            #logger.info(\"========================\")\n",
    "            #logger.info(\"{:>20} : {}\".format(\"count\", count))\n",
    "            \n",
    "            # 0番目は pre frameに登録のみで処理はskip\n",
    "            if(count==0):\n",
    "                pre_frame = frame\n",
    "            else:\n",
    "                # 0番目以降は処理\n",
    "                \n",
    "                image_pix_list.append(np.sum(np.abs(frame)))\n",
    "                # 差分を計算\n",
    "                diff_image = np.sum(np.abs(pre_frame - frame))\n",
    "                #logger.info(\"{:>20} : {}\".format(\"diff_image\", diff_image))\n",
    "                diff_list.append(diff_image)\n",
    "                pre_frame = frame\n",
    "                \n",
    "                \n",
    "            count += 1\n",
    "        else:\n",
    "            logger.info(\"Video Fin ...\")\n",
    "            break\n",
    "            \n",
    "    return diff_list, image_pix_list"
   ]
  },
  {
   "cell_type": "code",
   "execution_count": 17,
   "id": "4c5db021-252e-4e98-9dbb-ce4a31894823",
   "metadata": {},
   "outputs": [],
   "source": [
    "def param_analysis_video_section():\n",
    "    for video_path in video_list:\n",
    "        logger.info(\"{:>20} : {}\".format(\"video_path\", video_path))\n",
    "        diff_list, image_pix_list = param_analysis_video(video_path)\n",
    "    \n",
    "    return diff_list, image_pix_list"
   ]
  },
  {
   "cell_type": "code",
   "execution_count": 18,
   "id": "1de6659a-6b19-4d0f-acf3-14aa7806f3c8",
   "metadata": {},
   "outputs": [
    {
     "name": "stderr",
     "output_type": "stream",
     "text": [
      "2022-12-03 11:54:28.496 | INFO     | __main__:param_analysis_video_section:3 -           video_path : /home/Pokemon-SV-Datasets/capture/video/2022-11-19 20-26-07.mp4\n",
      "2022-12-03 11:54:28.497 | INFO     | __main__:param_analysis_video:5 -    video_single_path : /home/Pokemon-SV-Datasets/capture/image/2022-11-19 20-26-07.mp4\n",
      "100%|█████████▉| 145773/145776 [42:56<00:00, 60.71it/s]  2022-12-03 12:37:25.447 | INFO     | __main__:param_analysis_video:44 - Video Fin ...\n",
      "100%|█████████▉| 145775/145776 [42:56<00:00, 56.58it/s]\n"
     ]
    }
   ],
   "source": [
    "diff_list_total, image_pix_list_total = param_analysis_video_section()"
   ]
  },
  {
   "cell_type": "code",
   "execution_count": 13,
   "id": "3dd93678-8722-4cf9-bec8-c128edec9043",
   "metadata": {},
   "outputs": [],
   "source": [
    "if(len(diff_list_total) > 0):\n",
    "    plt.figure(figsize=[20,4.2])\n",
    "    plt.hist(diff_list_total, bins=30)"
   ]
  },
  {
   "cell_type": "markdown",
   "id": "85793ee2",
   "metadata": {},
   "source": [
    "## キャプチャー動画の分解\n",
    "\n",
    "キャプチャーした動画を分解して画像に変換します．\n",
    "\n",
    "`save_freq`フレームごとに画像間の変化量を計算し，閾値以上であればその画像を保存します．\n",
    "\n"
   ]
  },
  {
   "cell_type": "markdown",
   "id": "0909a5c5",
   "metadata": {},
   "source": [
    "### キャプチャー動画のリストを取得"
   ]
  },
  {
   "cell_type": "code",
   "execution_count": 15,
   "id": "8720db7c-b3d3-4515-91e8-0e022ba36736",
   "metadata": {},
   "outputs": [
    {
     "name": "stdout",
     "output_type": "stream",
     "text": [
      "['/home/Pokemon-SV-Datasets/capture/video/2022-11-19 20-26-07.mp4']\n"
     ]
    }
   ],
   "source": [
    "glob_path = capture_video_path + \"/*.mp4\"\n",
    "video_list = glob.glob(glob_path, recursive=True)\n",
    "pprint.pprint(video_list)"
   ]
  },
  {
   "cell_type": "markdown",
   "id": "ddb42f2a",
   "metadata": {},
   "source": [
    "### 動画の分解と保存"
   ]
  },
  {
   "cell_type": "code",
   "execution_count": 7,
   "id": "685ab123-aa1a-445a-ad66-cc1bae2683dd",
   "metadata": {},
   "outputs": [],
   "source": [
    "def analysis_video(video_path):\n",
    "    \n",
    "    video_name = video_path.split(\"/\")[-1]\n",
    "    video_single_path = capture_image_path + \"/\" + video_name\n",
    "    logger.info(\"{:>20} : {}\".format(\"video_single_path\", video_single_path))\n",
    "    os.makedirs(video_single_path, exist_ok=True)\n",
    "       \n",
    "    \n",
    "    cap = cv2.VideoCapture(video_path)\n",
    "    total_frame_count = int(cap.get(cv2.CAP_PROP_FRAME_COUNT))\n",
    "    #total_frame_count = 2000\n",
    "    \n",
    "    count = 0\n",
    "    image_id = 0\n",
    "    count_save = 0\n",
    "    diff_list1 = []\n",
    "    diff_list2 = []\n",
    "    \n",
    "    \n",
    "    #while True:\n",
    "    for _ in tqdm(range(total_frame_count)):\n",
    "        ret, frame = cap.read()\n",
    "\n",
    "        # 読み込み可能かどうか判定\n",
    "        if ret:\n",
    "            #logger.info(\"========================\")\n",
    "            #logger.info(\"{:>20} : {}\".format(\"count\", count))\n",
    "            \n",
    "            # 0番目は pre frameに登録のみで処理はskip\n",
    "            if(count==0):\n",
    "                pre_frame = frame\n",
    "            else:\n",
    "                # 0番目以降は処理\n",
    "                \n",
    "                if(count % skip_freq == 0):\n",
    "                \n",
    "                    # 差分を計算\n",
    "                    diff_image = np.sum(np.abs(pre_frame - frame))\n",
    "\n",
    "\n",
    "                    # 閾値以上なら処理する\n",
    "                    if(diff_image > diff_image_th1):\n",
    "\n",
    "                        save_image_name = \"{:09d}.jpg\".format(image_id)\n",
    "                        save_image_path = video_single_path + \"/\" + save_image_name\n",
    "                        #logger.info(\"{:>20} : {}\".format(\"frame[pix]\", np.sum(np.abs(frame))))\n",
    "                        #logger.info(\"{:>20} : {}\".format(\"save_image_path\", save_image_path))\n",
    "                        cv2.imwrite(save_image_path, frame)\n",
    "\n",
    "                        pre_save_frame = frame.copy()\n",
    "                        image_id += 1\n",
    "                        \n",
    "                pre_frame = frame\n",
    "                \n",
    "                \n",
    "            count += 1\n",
    "        else:\n",
    "            logger.info(\"Video Fin ...\")\n",
    "            break\n",
    "        \n",
    "    return diff_list1, diff_list2\n",
    "        "
   ]
  },
  {
   "cell_type": "code",
   "execution_count": 8,
   "id": "9de4c68e-47cc-433b-806b-c1a1dc1fbf75",
   "metadata": {},
   "outputs": [],
   "source": [
    "def video_section():\n",
    "    for video_path in video_list:\n",
    "        logger.info(\"{:>20} : {}\".format(\"video_path\", video_path))\n",
    "        diff_list1, diff_list2 = analysis_video(video_path)\n",
    "        return diff_list1, diff_list2"
   ]
  },
  {
   "cell_type": "code",
   "execution_count": 9,
   "id": "0bbf04f9-4059-4150-a320-223867599a69",
   "metadata": {},
   "outputs": [
    {
     "ename": "NameError",
     "evalue": "name 'video_list' is not defined",
     "output_type": "error",
     "traceback": [
      "\u001b[0;31m---------------------------------------------------------------------------\u001b[0m",
      "\u001b[0;31mNameError\u001b[0m                                 Traceback (most recent call last)",
      "Cell \u001b[0;32mIn [9], line 1\u001b[0m\n\u001b[0;32m----> 1\u001b[0m diff_list1, diff_list2 \u001b[38;5;241m=\u001b[39m \u001b[43mvideo_section\u001b[49m\u001b[43m(\u001b[49m\u001b[43m)\u001b[49m\n",
      "Cell \u001b[0;32mIn [8], line 2\u001b[0m, in \u001b[0;36mvideo_section\u001b[0;34m()\u001b[0m\n\u001b[1;32m      1\u001b[0m \u001b[38;5;28;01mdef\u001b[39;00m \u001b[38;5;21mvideo_section\u001b[39m():\n\u001b[0;32m----> 2\u001b[0m     \u001b[38;5;28;01mfor\u001b[39;00m video_path \u001b[38;5;129;01min\u001b[39;00m \u001b[43mvideo_list\u001b[49m:\n\u001b[1;32m      3\u001b[0m         logger\u001b[38;5;241m.\u001b[39minfo(\u001b[38;5;124m\"\u001b[39m\u001b[38;5;132;01m{:>20}\u001b[39;00m\u001b[38;5;124m : \u001b[39m\u001b[38;5;132;01m{}\u001b[39;00m\u001b[38;5;124m\"\u001b[39m\u001b[38;5;241m.\u001b[39mformat(\u001b[38;5;124m\"\u001b[39m\u001b[38;5;124mvideo_path\u001b[39m\u001b[38;5;124m\"\u001b[39m, video_path))\n\u001b[1;32m      4\u001b[0m         diff_list1, diff_list2 \u001b[38;5;241m=\u001b[39m analysis_video(video_path)\n",
      "\u001b[0;31mNameError\u001b[0m: name 'video_list' is not defined"
     ]
    }
   ],
   "source": [
    "diff_list1, diff_list2 = video_section()"
   ]
  },
  {
   "cell_type": "markdown",
   "id": "c07d3ea0",
   "metadata": {},
   "source": [
    "変化量をプロットします．"
   ]
  },
  {
   "cell_type": "code",
   "execution_count": 6,
   "id": "09f8615d-ab63-4ca2-b456-334e7c6d8159",
   "metadata": {},
   "outputs": [
    {
     "ename": "NameError",
     "evalue": "name 'diff_list1' is not defined",
     "output_type": "error",
     "traceback": [
      "\u001b[0;31m---------------------------------------------------------------------------\u001b[0m",
      "\u001b[0;31mNameError\u001b[0m                                 Traceback (most recent call last)",
      "Cell \u001b[0;32mIn [6], line 1\u001b[0m\n\u001b[0;32m----> 1\u001b[0m \u001b[38;5;28;01mif\u001b[39;00m(\u001b[38;5;28mlen\u001b[39m(\u001b[43mdiff_list1\u001b[49m) \u001b[38;5;241m>\u001b[39m \u001b[38;5;241m0\u001b[39m):\n\u001b[1;32m      2\u001b[0m     plt\u001b[38;5;241m.\u001b[39mfigure(figsize\u001b[38;5;241m=\u001b[39m[\u001b[38;5;241m20\u001b[39m,\u001b[38;5;241m4.2\u001b[39m])\n\u001b[1;32m      3\u001b[0m     plt\u001b[38;5;241m.\u001b[39mhist(diff_list1, bins\u001b[38;5;241m=\u001b[39m\u001b[38;5;241m30\u001b[39m)\n",
      "\u001b[0;31mNameError\u001b[0m: name 'diff_list1' is not defined"
     ]
    }
   ],
   "source": [
    "if(len(diff_list1) > 0):\n",
    "    plt.figure(figsize=[20,4.2])\n",
    "    plt.hist(diff_list1, bins=30)"
   ]
  },
  {
   "cell_type": "code",
   "execution_count": null,
   "id": "02e75bed-68f8-4b99-87b9-ccaf36474285",
   "metadata": {},
   "outputs": [],
   "source": [
    "if(len(diff_list2) > 0):\n",
    "    plt.figure(figsize=[20,4.2])\n",
    "    plt.hist(diff_list2, bins=30)"
   ]
  },
  {
   "cell_type": "markdown",
   "id": "a68c7060-a2cb-4957-9bed-ca66119dc112",
   "metadata": {},
   "source": [
    "## Make Labeling Interface\n",
    "\n",
    "Label-Studioでラベルを追加する場合，下記のようなコードを記載する必要があります．\n",
    "\n",
    "```xml\n",
    "<?xml version='1.0' encoding='utf-8'?>\n",
    "<View>\n",
    "    <Image name=\"image\" value=\"$image\" />\n",
    "    <RectangleLabels name=\"label\" toName=\"image\">\n",
    "        <Label value=\"player\" predicted_values=\"player\" background=\"#FFA39E\" />\n",
    "    </RectangleLabels>\n",
    "</View>\n",
    "```\n",
    "\n",
    "\n",
    "手作業で毎回コードを記載するのは結構骨が折れるため，図鑑のポケモンをCSVに記載するとそのデータから自動でXLMを生成するようにしました．"
   ]
  },
  {
   "cell_type": "code",
   "execution_count": null,
   "id": "2b0c9a6a-1d80-432c-9ce5-a83a6133436f",
   "metadata": {},
   "outputs": [],
   "source": [
    "df_pokemon_list = pd.read_csv(datasets_root_path + '/' + pokemon_list_name, index_col=0)\n",
    "#df_pokemon_list = df_pokemon_list.dropna(how='all')\n",
    "df_pokemon_list.head(10)"
   ]
  },
  {
   "cell_type": "markdown",
   "id": "dcd514ac",
   "metadata": {},
   "source": [
    "```bash\n",
    "            name\n",
    "sv_id           \n",
    "0         player\n",
    "1        Nyahoja\n",
    "2      Floragato\n",
    "3            NaN\n",
    "4        Hogator\n",
    "5            NaN\n",
    "6            NaN\n",
    "7        Kuwassu\n",
    "8            NaN\n",
    "9            NaN\n",
    "```"
   ]
  },
  {
   "cell_type": "markdown",
   "id": "3c7d6542",
   "metadata": {},
   "source": [
    "### ラベルの色を設定\n",
    "\n",
    "ラベルの色をカラーマップからRGBで抽出し，そこから16進数表記に変換します．"
   ]
  },
  {
   "cell_type": "code",
   "execution_count": null,
   "id": "07c5d193-f790-4c4b-8407-00c7106073df",
   "metadata": {},
   "outputs": [],
   "source": [
    "\n",
    "n_samples = 420\n",
    "\n",
    "#cmap_list = ['Greys', 'Purples', 'Blues', 'Greens', 'Oranges', 'Reds',]\n",
    "#cmap_list = ['viridis', 'plasma', 'inferno', 'magma', 'cividis',\n",
    "#                        'Greys', 'Purples', 'Blues', 'Greens', 'Oranges', 'Reds',\n",
    "#                          'YlOrBr', 'YlOrRd', 'OrRd', 'PuRd', 'RdPu', 'BuPu',\n",
    "#                          'GnBu', 'PuBu', 'YlGnBu', 'PuBuGn', 'BuGn', 'YlGn']\n",
    "\n",
    "cmap_list = ['gist_ncar']\n",
    "\n",
    "colorcode_list = []\n",
    "\n",
    "for cmap_name in cmap_list:\n",
    "    cmap = plt.get_cmap(cmap_name)\n",
    "    for k, x in enumerate(np.linspace(0.0, 1.0, n_samples)):\n",
    "        colorcode = rgb2hex(cmap(x))\n",
    "        colorcode_list.append(colorcode)\n",
    "\n",
    "        \n",
    "print(f\"{k:02d}/{n_samples}\\t{x:0.3f}\\t{colorcode}\")"
   ]
  },
  {
   "cell_type": "code",
   "execution_count": null,
   "id": "bff0f10a-f8d8-4142-a56a-ee26c53c9741",
   "metadata": {},
   "outputs": [],
   "source": [
    "len(colorcode_list)"
   ]
  },
  {
   "cell_type": "markdown",
   "id": "e405f5f0",
   "metadata": {},
   "source": [
    "### XML の生成\n",
    "\n",
    "上記で生成した色とCSVから読み取ったポケモンの名前を使ってXMLを作成し`labeling_interface.xml`という名前で保存します．"
   ]
  },
  {
   "cell_type": "code",
   "execution_count": null,
   "id": "931a427a-5e18-41db-b91e-80f2272c58ab",
   "metadata": {},
   "outputs": [],
   "source": [
    "root = Element(\"View\")\n",
    "\n",
    "element1 = Element(\"Image\")\n",
    "element1.set(\"name\", \"image\")\n",
    "element1.set(\"value\", \"$image\")\n",
    "root.append(element1)\n",
    "\n",
    "element2 = Element(\"RectangleLabels\")\n",
    "element2.set(\"name\", \"label\")\n",
    "element2.set(\"toName\", \"image\")\n",
    "root.append(element2)\n",
    "\n",
    "for i in tqdm(range(len(df_pokemon_list))):\n",
    "    pokemon_name = df_pokemon_list.loc[i, [\"name\"]].values[0]\n",
    "    if(pokemon_name == pokemon_name):\n",
    "        sub_element2 = SubElement(element2, \"Label\")\n",
    "        sub_element2.set(\"value\", pokemon_name)\n",
    "        sub_element2.set(\"predicted_values\", pokemon_name)\n",
    "        sub_element2.set(\"background\", colorcode_list[i])\n",
    "\n",
    "tree = ElementTree(root)\n",
    "\n",
    "xml_file_name = \"labeling_interface.xml\"\n",
    "xml_file_path = datasets_path + \"/\" + xml_file_name\n",
    "print(xml_file_path)\n",
    "with open(xml_file_path, \"wb\") as file:\n",
    "    tree.write(file, encoding='utf-8', xml_declaration=True)"
   ]
  },
  {
   "cell_type": "markdown",
   "id": "ea23a44a",
   "metadata": {},
   "source": [
    "保存された`labeling_interface.xml`はこんな感じです．"
   ]
  },
  {
   "cell_type": "markdown",
   "id": "f6d41787",
   "metadata": {},
   "source": [
    "```xml\n",
    "<?xml version='1.0' encoding='utf-8'?>\n",
    "<View>\n",
    "    <Image name=\"image\" value=\"$image\" />\n",
    "    <RectangleLabels name=\"label\" toName=\"image\">\n",
    "        <Label value=\"player\" predicted_values=\"player\" background=\"#000080\" />\n",
    "        <Label value=\"Nyahoja\" predicted_values=\"Nyahoja\" background=\"#000080\" />\n",
    "        <Label value=\"Floragato\" predicted_values=\"Floragato\" background=\"#000777\" />\n",
    "        <Label value=\"Hogator\" predicted_values=\"Hogator\" background=\"#000f6d\" />\n",
    "        <Label value=\"Kuwassu\" predicted_values=\"Kuwassu\" background=\"#001d5a\" />\n",
    "        <Label value=\"Gourton\" predicted_values=\"Gourton\" background=\"#002c48\" />\n",
    "        <Label value=\"Tarountula\" predicted_values=\"Tarountula\" background=\"#00333e\" />\n",
    "        <Label value=\"Nymble\" predicted_values=\"Nymble\" background=\"#003a35\" />\n",
    "        <Label value=\"Hanecco\" predicted_values=\"Hanecco\" background=\"#00422b\" />\n",
    "        <Label value=\"Popocco\" predicted_values=\"Popocco\" background=\"#004922\" />\n",
    "        <Label value=\"Watacco\" predicted_values=\"Watacco\" background=\"#004922\" />\n",
    "        <Label value=\"Yayakoma\" predicted_values=\"Yayakoma\" background=\"#005019\" />\n",
    "        <Label value=\"Hinoyakoma\" predicted_values=\"Hinoyakoma\" background=\"#00580f\" />\n",
    "        <Label value=\"Pamo\" predicted_values=\"Pamo\" background=\"#005f06\" />\n",
    "        <Label value=\"Pawmo\" predicted_values=\"Pawmo\" background=\"#005816\" />\n",
    "        <Label value=\"Delvil\" predicted_values=\"Delvil\" background=\"#005127\" />\n",
    "        <Label value=\"Hellgar\" predicted_values=\"Hellgar\" background=\"#005127\" />\n",
    "        <Label value=\"Youngoose\" predicted_values=\"Youngoose\" background=\"#004b37\" />\n",
    "        <Label value=\"Hoshigarisu\" predicted_values=\"Hoshigarisu\" background=\"#004448\" />\n",
    "        <Label value=\"Himanuts\" predicted_values=\"Himanuts\" background=\"#003d59\" />\n",
    "        <Label value=\"Kofukimushi\" predicted_values=\"Kofukimushi\" background=\"#00298b\" />\n",
    "        <Label value=\"Pinpuku\" predicted_values=\"Pinpuku\" background=\"#0007de\" />\n",
    "        <Label value=\"Ruriri\" predicted_values=\"Ruriri\" background=\"#000eff\" />\n",
    "        <Label value=\"Maril\" predicted_values=\"Maril\" background=\"#000eff\" />\n",
    "        <Label value=\"Ametama\" predicted_values=\"Ametama\" background=\"#001cff\" />\n",
    "        <Label value=\"Amemoth\" predicted_values=\"Amemoth\" background=\"#002aff\" />\n",
    "        <Label value=\"Buoysel\" predicted_values=\"Buoysel\" background=\"#0038ff\" />\n",
    "        <Label value=\"Upah\" predicted_values=\"Upah\" background=\"#0047ff\" />\n",
    "        <Label value=\"Clodsire\" predicted_values=\"Clodsire\" background=\"#0047ff\" />\n",
    "        <Label value=\"Koduck\" predicted_values=\"Koduck\" background=\"#0055ff\" />\n",
    "        <Label value=\"Kamukame\" predicted_values=\"Kamukame\" background=\"#0063ff\" />\n",
    "        <Label value=\"Pupurin\" predicted_values=\"Pupurin\" background=\"#007fff\" />\n",
    "        <Label value=\"Purin\" predicted_values=\"Purin\" background=\"#007fff\" />\n",
    "        <Label value=\"Ralts\" predicted_values=\"Ralts\" background=\"#008dff\" />\n",
    "        <Label value=\"Kirlia\" predicted_values=\"Kirlia\" background=\"#009bff\" />\n",
    "        <Label value=\"Sleepe\" predicted_values=\"Sleepe\" background=\"#00b8ff\" />\n",
    "        <Label value=\"Ghos\" predicted_values=\"Ghos\" background=\"#00c0ff\" />\n",
    "        <Label value=\"Pichu\" predicted_values=\"Pichu\" background=\"#00ceff\" />\n",
    "        <Label value=\"Pupimocchi\" predicted_values=\"Pupimocchi\" background=\"#00d7ff\" />\n",
    "        <Label value=\"Smoliv\" predicted_values=\"Smoliv\" background=\"#00edff\" />\n",
    "        <Label value=\"Usohachi\" predicted_values=\"Usohachi\" background=\"#00f6f8\" />\n",
    "        <Label value=\"Iwanko\" predicted_values=\"Iwanko\" background=\"#00fbf2\" />\n",
    "        <Label value=\"Tandon\" predicted_values=\"Tandon\" background=\"#00ffeb\" />\n",
    "        <Label value=\"Mukubird\" predicted_values=\"Mukubird\" background=\"#00fdd1\" />\n",
    "        <Label value=\"Merriep\" predicted_values=\"Merriep\" background=\"#00fcc4\" />\n",
    "        <Label value=\"Squawkabilly\" predicted_values=\"Squawkabilly\" background=\"#00fa88\" />\n",
    "        <Label value=\"Makunoshita\" predicted_values=\"Makunoshita\" background=\"#00fa7d\" />\n",
    "        <Label value=\"Ennewt\" predicted_values=\"Ennewt\" background=\"#00fc5e\" />\n",
    "        <Label value=\"Gomazou\" predicted_values=\"Gomazou\" background=\"#00fc54\" />\n",
    "        <Label value=\"Nacli\" predicted_values=\"Nacli\" background=\"#00fe2a\" />\n",
    "        <Label value=\"Koiking\" predicted_values=\"Koiking\" background=\"#0dff0b\" />\n",
    "        <Label value=\"Bassrao\" predicted_values=\"Bassrao\" background=\"#20f400\" />\n",
    "        <Label value=\"Fuwante\" predicted_values=\"Fuwante\" background=\"#33e800\" />\n",
    "        <Label value=\"Digda\" predicted_values=\"Digda\" background=\"#46dd00\" />\n",
    "        <Label value=\"Donmel\" predicted_values=\"Donmel\" background=\"#53d600\" />\n",
    "        <Label value=\"Mankey\" predicted_values=\"Mankey\" background=\"#68d500\" />\n",
    "        <Label value=\"Riolu\" predicted_values=\"Riolu\" background=\"#6ede00\" />\n",
    "        <Label value=\"Dojoach\" predicted_values=\"Dojoach\" background=\"#74e800\" />\n",
    "        <Label value=\"Tadbulb\" predicted_values=\"Tadbulb\" background=\"#76eb00\" />\n",
    "        <Label value=\"Numera\" predicted_values=\"Numera\" background=\"#7af200\" />\n",
    "        <Label value=\"Nokocchi\" predicted_values=\"Nokocchi\" background=\"#9bff20\" />\n",
    "        <Label value=\"Shikijika\" predicted_values=\"Shikijika\" background=\"#a4ff28\" />\n",
    "        <Label value=\"Maschiff\" predicted_values=\"Maschiff\" background=\"#b2ff34\" />\n",
    "        <Label value=\"Eleson\" predicted_values=\"Eleson\" background=\"#b6ff38\" />\n",
    "        <Label value=\"Shroodle\" predicted_values=\"Shroodle\" background=\"#c4ff34\" />\n",
    "        <Label value=\"Tamagetake\" predicted_values=\"Tamagetake\" background=\"#cdff2c\" />\n",
    "        <Label value=\"Tyltto\" predicted_values=\"Tyltto\" background=\"#f1ff0c\" />\n",
    "        <Label value=\"Meecle\" predicted_values=\"Meecle\" background=\"#fafa04\" />\n",
    "        <Label value=\"Yamikarasu\" predicted_values=\"Yamikarasu\" background=\"#ffeb00\" />\n",
    "        <Label value=\"Capsakid\" predicted_values=\"Capsakid\" background=\"#ffd004\" />\n",
    "        <Label value=\"Strike\" predicted_values=\"Strike\" background=\"#ffc10b\" />\n",
    "        <Label value=\"Flittle\" predicted_values=\"Flittle\" background=\"#ffbc0d\" />\n",
    "        <Label value=\"Dorobanko\" predicted_values=\"Dorobanko\" background=\"#ff9109\" />\n",
    "        <Label value=\"Mibrim\" predicted_values=\"Mibrim\" background=\"#ff6004\" />\n",
    "        <Label value=\"Flamigo\" predicted_values=\"Flamigo\" background=\"#c11fff\" />\n",
    "        <Label value=\"Koraidon\" predicted_values=\"Koraidon\" background=\"#f6c5f7\" />\n",
    "    </RectangleLabels>\n",
    "</View>\n",
    "```"
   ]
  },
  {
   "cell_type": "markdown",
   "id": "21d4bf62",
   "metadata": {},
   "source": [
    "## 画像をアノテーション"
   ]
  },
  {
   "cell_type": "markdown",
   "id": "f0a1795a-10a0-4b46-95d0-6b9325d21595",
   "metadata": {},
   "source": [
    "こちらのアノテーションソフトを使ってアノテーションしていきます．\n",
    "\n",
    "https://github.com/makiMakiTi/label-studio-1.6.0\n",
    "\n",
    "下記のコマンドにて実行可能です．"
   ]
  },
  {
   "cell_type": "markdown",
   "id": "662bea8a-d0da-4bde-b50f-b93b60c078d8",
   "metadata": {},
   "source": [
    "```bash\n",
    "docker-compose up --build\n",
    "```"
   ]
  },
  {
   "cell_type": "markdown",
   "id": "ac59703c",
   "metadata": {},
   "source": [
    "## アノテーションファイルの修正\n",
    "\n",
    "exportされたアノテーションファイル`datasets\\v0\\result.json`は画像のパスが`COCO`フォーマットになっていないので修正します．\n",
    "\n"
   ]
  },
  {
   "cell_type": "markdown",
   "id": "971dc372",
   "metadata": {},
   "source": [
    "読み込みます"
   ]
  },
  {
   "cell_type": "code",
   "execution_count": null,
   "id": "db6050eb-3cce-461b-859f-908885a1ddc2",
   "metadata": {},
   "outputs": [],
   "source": [
    "with open(anotate_full, 'rt', encoding='UTF-8') as annotations:\n",
    "    result_coco = json.load(annotations)"
   ]
  },
  {
   "cell_type": "markdown",
   "id": "b1cb3671",
   "metadata": {},
   "source": [
    "パスを修正しファイル名にします．"
   ]
  },
  {
   "cell_type": "code",
   "execution_count": null,
   "id": "a8e08bc7-9a11-44fa-af09-74c62e8549b6",
   "metadata": {},
   "outputs": [],
   "source": [
    "for i in range(len(result_coco[\"images\"])):\n",
    "    file_name = result_coco[\"images\"][i]['file_name']    \n",
    "    result_coco[\"images\"][i]['file_name'] = file_name.split(\"/\")[-1]"
   ]
  },
  {
   "cell_type": "markdown",
   "id": "58b8a18f",
   "metadata": {},
   "source": [
    "書き出します．"
   ]
  },
  {
   "cell_type": "code",
   "execution_count": null,
   "id": "e0a279e3-b754-4cf2-b3c0-7f8d3324fbaa",
   "metadata": {},
   "outputs": [],
   "source": [
    "with open(anotate_full_repath, 'wt', encoding='UTF-8') as coco:\n",
    "        json.dump(result_coco, coco, indent=2, sort_keys=True)"
   ]
  },
  {
   "cell_type": "code",
   "execution_count": null,
   "id": "708705e7-02b4-4d73-9b89-dc48c7ccb1ec",
   "metadata": {},
   "outputs": [],
   "source": [
    "anotate_full_repath"
   ]
  },
  {
   "cell_type": "markdown",
   "id": "921c6d69",
   "metadata": {},
   "source": [
    "## データセットの split"
   ]
  },
  {
   "cell_type": "markdown",
   "id": "1ef36e6a",
   "metadata": {},
   "source": [
    "データセットの分割します．"
   ]
  },
  {
   "cell_type": "code",
   "execution_count": null,
   "id": "0cc28120-ce93-414a-8953-64ecd03d9ca5",
   "metadata": {},
   "outputs": [],
   "source": [
    "!python utils/cocosplit.py --having-annotations --multi-class -s 0.8 $anotate_full_repath $anotate_train_path $anotate_valid_path"
   ]
  },
  {
   "cell_type": "markdown",
   "id": "6e3545f5",
   "metadata": {},
   "source": [
    "分割したアノテーションファイルを元に，画像をtrainとValに仕分けします．"
   ]
  },
  {
   "cell_type": "code",
   "execution_count": null,
   "id": "3e97fadb-0625-497b-9917-6a624abd04e3",
   "metadata": {},
   "outputs": [],
   "source": [
    "def move_datasets_image_file(target_dir, anno_path):\n",
    "    \n",
    "    logger.info(\"{:>20} : {}\".format(\"target_dir\", target_dir))\n",
    "    logger.info(\"{:>20} : {}\".format(\"anno_path\", anno_path))\n",
    "    os.makedirs(target_dir, exist_ok=True)\n",
    "    \n",
    "    with open(anno_path, 'rt', encoding='UTF-8') as annotations:\n",
    "        result_coco = json.load(annotations)\n",
    "\n",
    "    for i in tqdm(range(len(result_coco[\"images\"]))):\n",
    "        #logger.info(\">>>>>>>>>>>> {:>20} : {}\".format(\"i\", i))\n",
    "        \n",
    "        file_name = result_coco[\"images\"][i]['file_name']   \n",
    "        #logger.info(\"{:>20} : {}\".format(\"file_name\", file_name))\n",
    "        \n",
    "        source_path =  datasets_path + \"/\" + image_full_dir + \"/\" + file_name\n",
    "        #logger.info(\"{:>20} : {}\".format(\"source_path\", source_path))\n",
    "        \n",
    "        target_path =  target_dir + \"/\" + file_name\n",
    "        #logger.info(\"{:>20} : {}\".format(\"target_path\", target_path))\n",
    "        \n",
    "        shutil.copyfile(source_path, target_path)\n",
    "        \n",
    "    #pprint.pprint(result_coco)"
   ]
  },
  {
   "cell_type": "code",
   "execution_count": null,
   "id": "a36b47ee-ed03-4d13-af51-551004c9f761",
   "metadata": {},
   "outputs": [],
   "source": [
    "move_datasets_image_file(target_dir=datasets_path + \"/\" + image_train_dir, anno_path=anotate_train_path)"
   ]
  },
  {
   "cell_type": "code",
   "execution_count": null,
   "id": "3ac931f6-f7d2-4657-b23a-2573621fc2b8",
   "metadata": {},
   "outputs": [],
   "source": [
    "move_datasets_image_file(target_dir=datasets_path + \"/\" + image_valid_dir, anno_path=anotate_valid_path)"
   ]
  },
  {
   "cell_type": "markdown",
   "id": "e2b604cb",
   "metadata": {},
   "source": [
    "## クラスラベルの出力\n",
    "\n",
    "モデルの`config`ファイルに記載するクラスラベルを出力します．これをコピペして貼り付けます．"
   ]
  },
  {
   "cell_type": "code",
   "execution_count": null,
   "id": "2881cbf1-2834-4da7-8253-c84d331efdad",
   "metadata": {},
   "outputs": [],
   "source": [
    "c_list = []\n",
    "for c in result_coco['categories']:\n",
    "    print(c['name'])\n",
    "    c_list.append(c['name'])\n",
    "    \n",
    "c_tuple = tuple(c_list)\n",
    "    "
   ]
  },
  {
   "cell_type": "code",
   "execution_count": null,
   "id": "342f63ee-b108-440f-8ba2-a3d3f01fb407",
   "metadata": {},
   "outputs": [],
   "source": [
    "c_tuple"
   ]
  },
  {
   "cell_type": "markdown",
   "id": "22223ddf",
   "metadata": {},
   "source": [
    "```bash\n",
    "('Amemoth',\n",
    " 'Ametama',\n",
    " 'Bassrao',\n",
    " 'Buoysel',\n",
    " 'Capsakid',\n",
    " 'Clodsire',\n",
    " 'Delvil',\n",
    " 'Digda',\n",
    " 'Dojoach',\n",
    " 'Donmel',\n",
    " 'Dorobanko',\n",
    " 'Eleson',\n",
    " 'Ennewt',\n",
    " 'Flamigo',\n",
    " 'Flittle',\n",
    " 'Floragato',\n",
    " 'Fuwante',\n",
    " 'Ghos',\n",
    " 'Gomazou',\n",
    " 'Gourton',\n",
    " 'Hanecco',\n",
    " 'Hellgar',\n",
    " 'Himanuts',\n",
    " 'Hinoyakoma',\n",
    " 'Hogator',\n",
    "...\n",
    " 'Watacco',\n",
    " 'Yamikarasu',\n",
    " 'Yayakoma',\n",
    " 'Youngoose',\n",
    " 'player')\n",
    "```"
   ]
  }
 ],
 "metadata": {
  "kernelspec": {
   "display_name": "Python 3 (ipykernel)",
   "language": "python",
   "name": "python3"
  },
  "language_info": {
   "codemirror_mode": {
    "name": "ipython",
    "version": 3
   },
   "file_extension": ".py",
   "mimetype": "text/x-python",
   "name": "python",
   "nbconvert_exporter": "python",
   "pygments_lexer": "ipython3",
   "version": "3.11.0"
  },
  "vscode": {
   "interpreter": {
    "hash": "2f56ba5d2b53942f083eb605afdd36a78375f55aac5a7304a7b3cb7332ca4316"
   }
  }
 },
 "nbformat": 4,
 "nbformat_minor": 5
}
