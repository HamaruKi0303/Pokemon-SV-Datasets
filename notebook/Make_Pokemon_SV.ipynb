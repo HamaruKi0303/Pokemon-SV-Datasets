{
 "cells": [
  {
   "cell_type": "markdown",
   "id": "57bc9df8-42cf-45f0-b40b-ffe9ea741207",
   "metadata": {},
   "source": [
    "# Make Pokemon SV Datasets"
   ]
  },
  {
   "cell_type": "code",
   "execution_count": 2,
   "id": "9323a118-9d94-49b6-ac72-21e1e9677221",
   "metadata": {},
   "outputs": [],
   "source": [
    "import json\n",
    "import pprint\n",
    "from PIL import Image, ImageFilter\n",
    "from PIL import ImageDraw\n",
    "\n",
    "import glob\n",
    "import re\n",
    "import os\n",
    "from loguru import logger\n",
    "from tqdm import tqdm\n",
    "import numpy as np\n",
    "\n",
    "import cv2\n",
    "import sys"
   ]
  },
  {
   "cell_type": "markdown",
   "id": "46a672ac-5f07-463d-86ba-812844c782b0",
   "metadata": {},
   "source": [
    "## Setting param"
   ]
  },
  {
   "cell_type": "code",
   "execution_count": 21,
   "id": "f72a9069-6577-4e84-bb7b-d8299f2666f3",
   "metadata": {},
   "outputs": [],
   "source": [
    "capture_dir = \"capture\"\n",
    "capture_video_dir = \"video\"\n",
    "capture_image_dir = \"image\"\n",
    "\n",
    "capture_video_path = capture_dir + \"/\" + capture_video_dir\n",
    "capture_image_path = capture_dir + \"/\" + capture_image_dir\n",
    "\n",
    "root_path = \"/home\"\n",
    "\n",
    "diff_image_th = 1000\n",
    "save_freq     = 4\n",
    "\n",
    "datasets_dir  = \"datasets\"\n",
    "datasets_ver  = \"v0\"\n",
    "datasets_path = datasets_dir + \"/\" + datasets_ver\n",
    "\n",
    "anotate_full = \"datasets/v0/result.json\"\n",
    "anotate_full_repath = \"datasets/v0/result_repath.json\"\n",
    "\n",
    "anotate_train_name = \"pokemon_sv_train.json\"\n",
    "anotate_train_path = datasets_path + \"/\" + anotate_train_name\n",
    "anotate_valid_name = \"pokemon_sv_valid.json\"\n",
    "anotate_valid_path = datasets_path + \"/\" + anotate_valid_name\n",
    "\n"
   ]
  },
  {
   "cell_type": "code",
   "execution_count": 4,
   "id": "3661777c-0afb-4664-b5b4-af713477beb2",
   "metadata": {},
   "outputs": [
    {
     "name": "stdout",
     "output_type": "stream",
     "text": [
      "/home\n"
     ]
    }
   ],
   "source": [
    "%cd $root_path"
   ]
  },
  {
   "cell_type": "code",
   "execution_count": 5,
   "id": "e865b049-6aaf-4ab0-91d6-d6b8df40a66c",
   "metadata": {},
   "outputs": [
    {
     "name": "stdout",
     "output_type": "stream",
     "text": [
      "Dockerfile  capture   docker-compose.yml     notebook\t test.json   utils\n",
      "README.md   datasets  label_studio_exported  sample.txt  train.json\n"
     ]
    }
   ],
   "source": [
    "!ls"
   ]
  },
  {
   "cell_type": "code",
   "execution_count": 6,
   "id": "8720db7c-b3d3-4515-91e8-0e022ba36736",
   "metadata": {},
   "outputs": [
    {
     "name": "stdout",
     "output_type": "stream",
     "text": [
      "['capture/video/2022-11-19_11-55-09.mp4']\n"
     ]
    }
   ],
   "source": [
    "glob_path = capture_video_path + \"/*.mp4\"\n",
    "video_list = glob.glob(glob_path, recursive=True)\n",
    "pprint.pprint(video_list)"
   ]
  },
  {
   "cell_type": "code",
   "execution_count": null,
   "id": "49642e4f-9ffe-4830-8d90-be78a2141871",
   "metadata": {},
   "outputs": [],
   "source": []
  },
  {
   "cell_type": "code",
   "execution_count": 7,
   "id": "685ab123-aa1a-445a-ad66-cc1bae2683dd",
   "metadata": {},
   "outputs": [],
   "source": [
    "def analysis_video(video_path):\n",
    "    \n",
    "    video_name = video_path.split(\"/\")[-1]\n",
    "    video_single_path = capture_image_path + \"/\" + video_name\n",
    "    logger.info(\"{:>20} : {}\".format(\"video_single_path\", video_single_path))\n",
    "    os.makedirs(video_single_path, exist_ok=True)\n",
    "       \n",
    "    \n",
    "    cap = cv2.VideoCapture(video_path)\n",
    "    \n",
    "    count = 0\n",
    "    image_id = 1\n",
    "    \n",
    "    while True:\n",
    "        ret, frame = cap.read()\n",
    "\n",
    "        # 読み込み可能かどうか判定\n",
    "        if ret:\n",
    "            logger.info(\"========================\")\n",
    "            logger.info(\"{:>20} : {}\".format(\"count\", count))\n",
    "            \n",
    "            # 0番目は pre frameに登録のみで処理はskip\n",
    "            if(count==0):\n",
    "                pre_frame = frame\n",
    "            else:\n",
    "                # 0番目以降は処理\n",
    "                \n",
    "                # 差分を計算\n",
    "                diff_image = np.sum(np.abs(pre_frame - frame))\n",
    "                logger.info(\"{:>20} : {}\".format(\"diff_image\", diff_image))\n",
    "                \n",
    "                # 閾値以上なら処理する\n",
    "                if(diff_image > diff_image_th):\n",
    "                    # 一定間隔で画像を保存\n",
    "                    if(image_id % save_freq == 0):\n",
    "                        save_image_name = \"{:09d}.jpg\".format(image_id)\n",
    "                        save_image_path = video_single_path + \"/\" + save_image_name\n",
    "                        logger.info(\"{:>20} : {}\".format(\"save_image_path\", save_image_path))\n",
    "                        cv2.imwrite(save_image_path, frame)\n",
    "                                                          \n",
    "                    image_id += 1\n",
    "                pre_frame = frame\n",
    "                \n",
    "                \n",
    "            count += 1\n",
    "        else:\n",
    "            logger.info(\"Video Fin ...\")\n",
    "            break\n",
    "            \n",
    "        "
   ]
  },
  {
   "cell_type": "code",
   "execution_count": 8,
   "id": "9de4c68e-47cc-433b-806b-c1a1dc1fbf75",
   "metadata": {},
   "outputs": [],
   "source": [
    "def video_section():\n",
    "    for video_path in video_list:\n",
    "        logger.info(\"{:>20} : {}\".format(\"video_path\", video_path))\n",
    "        analysis_video(video_path)"
   ]
  },
  {
   "cell_type": "code",
   "execution_count": 9,
   "id": "0bbf04f9-4059-4150-a320-223867599a69",
   "metadata": {},
   "outputs": [],
   "source": [
    "#video_section()"
   ]
  },
  {
   "cell_type": "code",
   "execution_count": null,
   "id": "156a8348-8b87-4dc7-bb2f-e875c24a9002",
   "metadata": {},
   "outputs": [],
   "source": []
  },
  {
   "cell_type": "code",
   "execution_count": 23,
   "id": "db6050eb-3cce-461b-859f-908885a1ddc2",
   "metadata": {},
   "outputs": [],
   "source": [
    "with open(anotate_full, 'rt', encoding='UTF-8') as annotations:\n",
    "    result_coco = json.load(annotations)"
   ]
  },
  {
   "cell_type": "code",
   "execution_count": 24,
   "id": "a8e08bc7-9a11-44fa-af09-74c62e8549b6",
   "metadata": {},
   "outputs": [],
   "source": [
    "for i in range(len(result_coco[\"images\"])):\n",
    "    file_name = result_coco[\"images\"][i]['file_name']    \n",
    "    result_coco[\"images\"][i]['file_name'] = file_name.split(\"/\")[-1]"
   ]
  },
  {
   "cell_type": "code",
   "execution_count": 25,
   "id": "e0a279e3-b754-4cf2-b3c0-7f8d3324fbaa",
   "metadata": {},
   "outputs": [],
   "source": [
    "with open(anotate_full_repath, 'wt', encoding='UTF-8') as coco:\n",
    "        json.dump(result_coco, coco, indent=2, sort_keys=True)"
   ]
  },
  {
   "cell_type": "code",
   "execution_count": null,
   "id": "39d26260-adef-449f-bf31-429f6b7fe9ef",
   "metadata": {},
   "outputs": [],
   "source": []
  },
  {
   "cell_type": "code",
   "execution_count": 26,
   "id": "0cc28120-ce93-414a-8953-64ecd03d9ca5",
   "metadata": {},
   "outputs": [
    {
     "name": "stdout",
     "output_type": "stream",
     "text": [
      "Saved 87 entries in datasets/v0/pokemon_sv_train.json and 22 in datasets/v0/pokemon_sv_valid.json\n"
     ]
    }
   ],
   "source": [
    "!python utils/cocosplit.py --having-annotations --multi-class -s 0.8 $anotate_full_repath $anotate_train_path $anotate_valid_path"
   ]
  },
  {
   "cell_type": "code",
   "execution_count": null,
   "id": "3e97fadb-0625-497b-9917-6a624abd04e3",
   "metadata": {},
   "outputs": [],
   "source": []
  }
 ],
 "metadata": {
  "kernelspec": {
   "display_name": "Python 3 (ipykernel)",
   "language": "python",
   "name": "python3"
  },
  "language_info": {
   "codemirror_mode": {
    "name": "ipython",
    "version": 3
   },
   "file_extension": ".py",
   "mimetype": "text/x-python",
   "name": "python",
   "nbconvert_exporter": "python",
   "pygments_lexer": "ipython3",
   "version": "3.11.0"
  }
 },
 "nbformat": 4,
 "nbformat_minor": 5
}
