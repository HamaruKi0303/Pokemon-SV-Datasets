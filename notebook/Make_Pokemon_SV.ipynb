{
 "cells": [
  {
   "cell_type": "markdown",
   "id": "57bc9df8-42cf-45f0-b40b-ffe9ea741207",
   "metadata": {},
   "source": [
    "# Make Pokemon SV Datasets"
   ]
  },
  {
   "cell_type": "code",
   "execution_count": 2,
   "id": "9323a118-9d94-49b6-ac72-21e1e9677221",
   "metadata": {},
   "outputs": [],
   "source": [
    "import json\n",
    "import pprint\n",
    "from PIL import Image, ImageFilter\n",
    "from PIL import ImageDraw\n",
    "\n",
    "import glob\n",
    "import re\n",
    "import os\n",
    "from loguru import logger\n",
    "from tqdm import tqdm\n",
    "#from tqdm import tqdm_notebook as tqdm\n",
    "import numpy as np\n",
    "\n",
    "import random\n",
    "\n",
    "\n",
    "import cv2\n",
    "import sys\n",
    "import shutil\n",
    "\n",
    "import numpy as np\n",
    "import matplotlib.pyplot as plt\n",
    "from xml.etree.ElementTree import Element, SubElement, ElementTree\n",
    "import pandas as pd\n",
    "\n",
    "from matplotlib.colors import rgb2hex"
   ]
  },
  {
   "cell_type": "code",
   "execution_count": 3,
   "id": "a7e8558e-1480-43ec-8ff2-f6b3903754b8",
   "metadata": {},
   "outputs": [
    {
     "name": "stdout",
     "output_type": "stream",
     "text": [
      "Requirement already satisfied: pandas in /usr/local/lib/python3.11/site-packages (1.5.2)\n",
      "Requirement already satisfied: python-dateutil>=2.8.1 in /usr/local/lib/python3.11/site-packages (from pandas) (2.8.2)\n",
      "Requirement already satisfied: pytz>=2020.1 in /usr/local/lib/python3.11/site-packages (from pandas) (2022.6)\n",
      "Requirement already satisfied: numpy>=1.21.0 in /usr/local/lib/python3.11/site-packages (from pandas) (1.23.5)\n",
      "Requirement already satisfied: six>=1.5 in /usr/local/lib/python3.11/site-packages (from python-dateutil>=2.8.1->pandas) (1.16.0)\n",
      "\u001b[33mWARNING: Running pip as the 'root' user can result in broken permissions and conflicting behaviour with the system package manager. It is recommended to use a virtual environment instead: https://pip.pypa.io/warnings/venv\u001b[0m\u001b[33m\n",
      "\u001b[0m"
     ]
    }
   ],
   "source": [
    "!pip install pandas"
   ]
  },
  {
   "cell_type": "markdown",
   "id": "46a672ac-5f07-463d-86ba-812844c782b0",
   "metadata": {},
   "source": [
    "## Setting param"
   ]
  },
  {
   "cell_type": "markdown",
   "id": "3d16b14c",
   "metadata": {},
   "source": [
    "データセットのパスや動画のフォルダなどのパラメーターを設定します．"
   ]
  },
  {
   "cell_type": "code",
   "execution_count": 22,
   "id": "f72a9069-6577-4e84-bb7b-d8299f2666f3",
   "metadata": {},
   "outputs": [],
   "source": [
    "root_path = \"/home/Pokemon-SV\"\n",
    "datasets_root = \"/home/Pokemon-SV-Datasets\"\n",
    "\n",
    "capture_dir = \"capture\"\n",
    "capture_video_dir = \"video\"\n",
    "capture_image_dir = \"image\"\n",
    "\n",
    "capture_video_path = datasets_root  + \"/\" + capture_dir + \"/\" + capture_video_dir\n",
    "capture_image_path = datasets_root  + \"/\" + capture_dir + \"/\" + capture_image_dir\n",
    "\n",
    "diff_image_th1 = 0.50 * 1e9\n",
    "diff_image_th2 = 0.85 * 1e9\n",
    "save_freq     = 100\n",
    "skip_freq     = 100\n",
    "\n",
    "datasets_dir  = \"datasets\"\n",
    "datasets_ver  = \"v2.2\"\n",
    "datasets_path = datasets_root  + \"/\" + datasets_dir + \"/\" + datasets_ver\n",
    "datasets_root_path = datasets_root  + \"/\" + datasets_dir\n",
    "os.makedirs(datasets_path, exist_ok=True)\n",
    "\n",
    "anotate_full = datasets_path + \"/result.json\"\n",
    "anotate_full_repath = datasets_path + \"/result_repath.json\"\n",
    "\n",
    "anotate_train_name = \"pokemon_sv_train.json\"\n",
    "anotate_train_path = datasets_path + \"/\" + anotate_train_name\n",
    "anotate_valid_name = \"pokemon_sv_valid.json\"\n",
    "anotate_valid_path = datasets_path + \"/\" + anotate_valid_name\n",
    "\n",
    "image_full_dir  = \"images\"\n",
    "image_train_dir = \"train2017\"\n",
    "image_valid_dir = \"val2017\"\n",
    "\n",
    "pokemon_list_name = \"pokemon_list.csv\"\n",
    "\n",
    "cm = \"jet\"\n",
    "\n",
    "diff_list_total = []"
   ]
  },
  {
   "cell_type": "code",
   "execution_count": 5,
   "id": "3661777c-0afb-4664-b5b4-af713477beb2",
   "metadata": {},
   "outputs": [
    {
     "name": "stdout",
     "output_type": "stream",
     "text": [
      "/home/Pokemon-SV\n"
     ]
    }
   ],
   "source": [
    "%cd $root_path"
   ]
  },
  {
   "cell_type": "code",
   "execution_count": 6,
   "id": "e865b049-6aaf-4ab0-91d6-d6b8df40a66c",
   "metadata": {},
   "outputs": [
    {
     "name": "stdout",
     "output_type": "stream",
     "text": [
      "Dockerfile\t    README.md  _datasets\t   docs      utils\n",
      "Make_Pokemon_SV.md  _capture   docker-compose.yml  notebook\n"
     ]
    }
   ],
   "source": [
    "!ls"
   ]
  },
  {
   "cell_type": "markdown",
   "id": "7b70c9f9-ac95-4e07-91ef-40084f15aff6",
   "metadata": {},
   "source": [
    "## パラメーター探索\n",
    "\n",
    "動画の変化量のパラメータを検索します．\n"
   ]
  },
  {
   "cell_type": "code",
   "execution_count": 5,
   "id": "943b95c5-41f1-47b7-9146-9de5e6e23378",
   "metadata": {},
   "outputs": [],
   "source": [
    "def param_analysis_video(video_path):\n",
    "    \n",
    "    video_name = video_path.split(\"/\")[-1]\n",
    "    video_single_path = capture_image_path + \"/\" + video_name\n",
    "    logger.info(\"{:>20} : {}\".format(\"video_single_path\", video_single_path))\n",
    "    os.makedirs(video_single_path, exist_ok=True)\n",
    "       \n",
    "    \n",
    "    cap = cv2.VideoCapture(video_path)\n",
    "    total_frame_count = int(cap.get(cv2.CAP_PROP_FRAME_COUNT))\n",
    "    #total_frame_count = 100\n",
    "    \n",
    "    count = 0\n",
    "    image_id = 1\n",
    "    \n",
    "    diff_list = []\n",
    "    image_pix_list = []\n",
    "    \n",
    "    #while True:\n",
    "    for _ in tqdm(range(total_frame_count)):\n",
    "        ret, frame = cap.read()\n",
    "\n",
    "        # 読み込み可能かどうか判定\n",
    "        if ret:\n",
    "            #logger.info(\"========================\")\n",
    "            #logger.info(\"{:>20} : {}\".format(\"count\", count))\n",
    "            \n",
    "            # 0番目は pre frameに登録のみで処理はskip\n",
    "            if(count==0):\n",
    "                pre_frame = frame\n",
    "            else:\n",
    "                # 0番目以降は処理\n",
    "                \n",
    "                image_pix_list.append(np.sum(np.abs(frame)))\n",
    "                # 差分を計算\n",
    "                diff_image = np.sum(np.abs(pre_frame - frame))\n",
    "                #logger.info(\"{:>20} : {}\".format(\"diff_image\", diff_image))\n",
    "                diff_list.append(diff_image)\n",
    "                pre_frame = frame\n",
    "                \n",
    "                \n",
    "            count += 1\n",
    "        else:\n",
    "            logger.info(\"Video Fin ...\")\n",
    "            break\n",
    "            \n",
    "    return diff_list, image_pix_list"
   ]
  },
  {
   "cell_type": "code",
   "execution_count": 6,
   "id": "4c5db021-252e-4e98-9dbb-ce4a31894823",
   "metadata": {},
   "outputs": [],
   "source": [
    "def param_analysis_video_section():\n",
    "    for video_path in video_list:\n",
    "        logger.info(\"{:>20} : {}\".format(\"video_path\", video_path))\n",
    "        diff_list, image_pix_list = param_analysis_video(video_path)\n",
    "    \n",
    "    return diff_list, image_pix_list"
   ]
  },
  {
   "cell_type": "code",
   "execution_count": 7,
   "id": "1de6659a-6b19-4d0f-acf3-14aa7806f3c8",
   "metadata": {},
   "outputs": [],
   "source": [
    "#diff_list_total, image_pix_list_total = param_analysis_video_section()"
   ]
  },
  {
   "cell_type": "code",
   "execution_count": 8,
   "id": "3dd93678-8722-4cf9-bec8-c128edec9043",
   "metadata": {},
   "outputs": [],
   "source": [
    "if(len(diff_list_total) > 0):\n",
    "    plt.figure(figsize=[20,4.2])\n",
    "    plt.hist(diff_list_total, bins=30)"
   ]
  },
  {
   "cell_type": "markdown",
   "id": "85793ee2",
   "metadata": {},
   "source": [
    "## キャプチャー動画の分解\n",
    "\n",
    "キャプチャーした動画を分解して画像に変換します．\n",
    "\n",
    "変換のない静止した状態の画像はスキップした上で，`save_freq`フレームごとに画像を保存します．\n"
   ]
  },
  {
   "cell_type": "markdown",
   "id": "0909a5c5",
   "metadata": {},
   "source": [
    "### キャプチャー動画のリストを取得"
   ]
  },
  {
   "cell_type": "code",
   "execution_count": 9,
   "id": "8720db7c-b3d3-4515-91e8-0e022ba36736",
   "metadata": {},
   "outputs": [
    {
     "name": "stdout",
     "output_type": "stream",
     "text": [
      "['/home/Pokemon-SV-Datasets/capture/video/2022-11-19 20-26-07.mp4']\n"
     ]
    }
   ],
   "source": [
    "glob_path = capture_video_path + \"/*.mp4\"\n",
    "video_list = glob.glob(glob_path, recursive=True)\n",
    "pprint.pprint(video_list)"
   ]
  },
  {
   "cell_type": "markdown",
   "id": "ddb42f2a",
   "metadata": {},
   "source": [
    "### 動画の分解と保存"
   ]
  },
  {
   "cell_type": "code",
   "execution_count": 16,
   "id": "685ab123-aa1a-445a-ad66-cc1bae2683dd",
   "metadata": {},
   "outputs": [],
   "source": [
    "def analysis_video(video_path):\n",
    "    \n",
    "    video_name = video_path.split(\"/\")[-1]\n",
    "    video_single_path = capture_image_path + \"/\" + video_name\n",
    "    logger.info(\"{:>20} : {}\".format(\"video_single_path\", video_single_path))\n",
    "    os.makedirs(video_single_path, exist_ok=True)\n",
    "       \n",
    "    \n",
    "    cap = cv2.VideoCapture(video_path)\n",
    "    total_frame_count = int(cap.get(cv2.CAP_PROP_FRAME_COUNT))\n",
    "    #total_frame_count = 2000\n",
    "    \n",
    "    count = 0\n",
    "    image_id = 0\n",
    "    count_save = 0\n",
    "    diff_list1 = []\n",
    "    diff_list2 = []\n",
    "    \n",
    "    \n",
    "    #while True:\n",
    "    for _ in tqdm(range(total_frame_count)):\n",
    "        ret, frame = cap.read()\n",
    "\n",
    "        # 読み込み可能かどうか判定\n",
    "        if ret:\n",
    "            #logger.info(\"========================\")\n",
    "            #logger.info(\"{:>20} : {}\".format(\"count\", count))\n",
    "            \n",
    "            # 0番目は pre frameに登録のみで処理はskip\n",
    "            if(count==0):\n",
    "                pre_frame = frame\n",
    "            else:\n",
    "                # 0番目以降は処理\n",
    "                \n",
    "                if(count % skip_freq == 0):\n",
    "                \n",
    "                    # 差分を計算\n",
    "                    diff_image = np.sum(np.abs(pre_frame - frame))\n",
    "\n",
    "\n",
    "                    # 閾値以上なら処理する\n",
    "                    if(diff_image > diff_image_th1):\n",
    "\n",
    "                        save_image_name = \"{:09d}.jpg\".format(image_id)\n",
    "                        save_image_path = video_single_path + \"/\" + save_image_name\n",
    "                        #logger.info(\"{:>20} : {}\".format(\"frame[pix]\", np.sum(np.abs(frame))))\n",
    "                        #logger.info(\"{:>20} : {}\".format(\"save_image_path\", save_image_path))\n",
    "                        cv2.imwrite(save_image_path, frame)\n",
    "\n",
    "                        pre_save_frame = frame.copy()\n",
    "                        image_id += 1\n",
    "                        \n",
    "                pre_frame = frame\n",
    "                \n",
    "                \n",
    "            count += 1\n",
    "        else:\n",
    "            logger.info(\"Video Fin ...\")\n",
    "            break\n",
    "        \n",
    "    return diff_list1, diff_list2\n",
    "        "
   ]
  },
  {
   "cell_type": "code",
   "execution_count": 17,
   "id": "9de4c68e-47cc-433b-806b-c1a1dc1fbf75",
   "metadata": {},
   "outputs": [],
   "source": [
    "def video_section():\n",
    "    for video_path in video_list:\n",
    "        logger.info(\"{:>20} : {}\".format(\"video_path\", video_path))\n",
    "        diff_list1, diff_list2 = analysis_video(video_path)\n",
    "        return diff_list1, diff_list2"
   ]
  },
  {
   "cell_type": "code",
   "execution_count": 18,
   "id": "0bbf04f9-4059-4150-a320-223867599a69",
   "metadata": {},
   "outputs": [
    {
     "name": "stderr",
     "output_type": "stream",
     "text": [
      "2022-11-25 09:50:54.682 | INFO     | __main__:video_section:3 -           video_path : /home/Pokemon-SV-Datasets/capture/video/2022-11-19 20-26-07.mp4\n",
      "2022-11-25 09:50:54.684 | INFO     | __main__:analysis_video:5 -    video_single_path : /home/Pokemon-SV-Datasets/capture/image/2022-11-19 20-26-07.mp4\n",
      "100%|█████████▉| 145757/145776 [10:02<00:00, 307.75it/s]2022-11-25 10:00:57.390 | INFO     | __main__:analysis_video:58 - Video Fin ...\n",
      "100%|█████████▉| 145775/145776 [10:02<00:00, 241.92it/s]\n"
     ]
    }
   ],
   "source": [
    "diff_list1, diff_list2 = video_section()"
   ]
  },
  {
   "cell_type": "code",
   "execution_count": 19,
   "id": "09f8615d-ab63-4ca2-b456-334e7c6d8159",
   "metadata": {},
   "outputs": [],
   "source": [
    "if(len(diff_list1) > 0):\n",
    "    plt.figure(figsize=[20,4.2])\n",
    "    plt.hist(diff_list1, bins=30)"
   ]
  },
  {
   "cell_type": "code",
   "execution_count": 20,
   "id": "02e75bed-68f8-4b99-87b9-ccaf36474285",
   "metadata": {},
   "outputs": [],
   "source": [
    "if(len(diff_list2) > 0):\n",
    "    plt.figure(figsize=[20,4.2])\n",
    "    plt.hist(diff_list2, bins=30)"
   ]
  },
  {
   "cell_type": "markdown",
   "id": "a68c7060-a2cb-4957-9bed-ca66119dc112",
   "metadata": {},
   "source": [
    "## Make Labeling Interface"
   ]
  },
  {
   "cell_type": "code",
   "execution_count": 7,
   "id": "2b0c9a6a-1d80-432c-9ce5-a83a6133436f",
   "metadata": {},
   "outputs": [
    {
     "data": {
      "text/html": [
       "<div>\n",
       "<style scoped>\n",
       "    .dataframe tbody tr th:only-of-type {\n",
       "        vertical-align: middle;\n",
       "    }\n",
       "\n",
       "    .dataframe tbody tr th {\n",
       "        vertical-align: top;\n",
       "    }\n",
       "\n",
       "    .dataframe thead th {\n",
       "        text-align: right;\n",
       "    }\n",
       "</style>\n",
       "<table border=\"1\" class=\"dataframe\">\n",
       "  <thead>\n",
       "    <tr style=\"text-align: right;\">\n",
       "      <th></th>\n",
       "      <th>name</th>\n",
       "    </tr>\n",
       "    <tr>\n",
       "      <th>sv_id</th>\n",
       "      <th></th>\n",
       "    </tr>\n",
       "  </thead>\n",
       "  <tbody>\n",
       "    <tr>\n",
       "      <th>420</th>\n",
       "      <td>NaN</td>\n",
       "    </tr>\n",
       "    <tr>\n",
       "      <th>421</th>\n",
       "      <td>NaN</td>\n",
       "    </tr>\n",
       "    <tr>\n",
       "      <th>422</th>\n",
       "      <td>NaN</td>\n",
       "    </tr>\n",
       "    <tr>\n",
       "      <th>423</th>\n",
       "      <td>NaN</td>\n",
       "    </tr>\n",
       "    <tr>\n",
       "      <th>424</th>\n",
       "      <td>NaN</td>\n",
       "    </tr>\n",
       "    <tr>\n",
       "      <th>425</th>\n",
       "      <td>NaN</td>\n",
       "    </tr>\n",
       "    <tr>\n",
       "      <th>426</th>\n",
       "      <td>NaN</td>\n",
       "    </tr>\n",
       "    <tr>\n",
       "      <th>427</th>\n",
       "      <td>NaN</td>\n",
       "    </tr>\n",
       "    <tr>\n",
       "      <th>428</th>\n",
       "      <td>NaN</td>\n",
       "    </tr>\n",
       "    <tr>\n",
       "      <th>429</th>\n",
       "      <td>NaN</td>\n",
       "    </tr>\n",
       "  </tbody>\n",
       "</table>\n",
       "</div>"
      ],
      "text/plain": [
       "      name\n",
       "sv_id     \n",
       "420    NaN\n",
       "421    NaN\n",
       "422    NaN\n",
       "423    NaN\n",
       "424    NaN\n",
       "425    NaN\n",
       "426    NaN\n",
       "427    NaN\n",
       "428    NaN\n",
       "429    NaN"
      ]
     },
     "execution_count": 7,
     "metadata": {},
     "output_type": "execute_result"
    }
   ],
   "source": [
    "df_pokemon_list = pd.read_csv(datasets_root_path + '/' + pokemon_list_name, index_col=0)\n",
    "#df_pokemon_list = df_pokemon_list.dropna(how='all')\n",
    "df_pokemon_list.tail(10)"
   ]
  },
  {
   "cell_type": "code",
   "execution_count": null,
   "id": "7cb3091f-f8c3-492d-9ccc-4f752ccfe109",
   "metadata": {},
   "outputs": [],
   "source": []
  },
  {
   "cell_type": "code",
   "execution_count": 8,
   "id": "07c5d193-f790-4c4b-8407-00c7106073df",
   "metadata": {},
   "outputs": [
    {
     "name": "stdout",
     "output_type": "stream",
     "text": [
      "419/420\t1.000\t#fef8fe\n"
     ]
    }
   ],
   "source": [
    "\n",
    "n_samples = 420\n",
    "\n",
    "#cmap_list = ['Greys', 'Purples', 'Blues', 'Greens', 'Oranges', 'Reds',]\n",
    "#cmap_list = ['viridis', 'plasma', 'inferno', 'magma', 'cividis',\n",
    "#                        'Greys', 'Purples', 'Blues', 'Greens', 'Oranges', 'Reds',\n",
    "#                          'YlOrBr', 'YlOrRd', 'OrRd', 'PuRd', 'RdPu', 'BuPu',\n",
    "#                          'GnBu', 'PuBu', 'YlGnBu', 'PuBuGn', 'BuGn', 'YlGn']\n",
    "\n",
    "cmap_list = ['gist_ncar']\n",
    "\n",
    "colorcode_list = []\n",
    "\n",
    "for cmap_name in cmap_list:\n",
    "    cmap = plt.get_cmap(cmap_name)\n",
    "    for k, x in enumerate(np.linspace(0.0, 1.0, n_samples)):\n",
    "        colorcode = rgb2hex(cmap(x))\n",
    "        colorcode_list.append(colorcode)\n",
    "\n",
    "        \n",
    "print(f\"{k:02d}/{n_samples}\\t{x:0.3f}\\t{colorcode}\")"
   ]
  },
  {
   "cell_type": "code",
   "execution_count": 9,
   "id": "bff0f10a-f8d8-4142-a56a-ee26c53c9741",
   "metadata": {},
   "outputs": [
    {
     "data": {
      "text/plain": [
       "420"
      ]
     },
     "execution_count": 9,
     "metadata": {},
     "output_type": "execute_result"
    }
   ],
   "source": [
    "len(colorcode_list)"
   ]
  },
  {
   "cell_type": "code",
   "execution_count": 10,
   "id": "bc999cb2-21ce-4246-bc14-8f06441e7642",
   "metadata": {},
   "outputs": [],
   "source": [
    "#random.seed(0) # 乱数シードを314に設定\n",
    "#colorcode_list_rnd = colorcode_list.copy()\n",
    "#random.shuffle(colorcode_list_rnd)\n",
    "#colorcode_list_rnd"
   ]
  },
  {
   "cell_type": "code",
   "execution_count": null,
   "id": "c0e26286-f9b4-4c9e-9d13-2605a735e1a2",
   "metadata": {},
   "outputs": [],
   "source": []
  },
  {
   "cell_type": "code",
   "execution_count": 11,
   "id": "931a427a-5e18-41db-b91e-80f2272c58ab",
   "metadata": {},
   "outputs": [
    {
     "name": "stderr",
     "output_type": "stream",
     "text": [
      "100%|██████████| 430/430 [00:00<00:00, 2724.40it/s]\n"
     ]
    },
    {
     "name": "stdout",
     "output_type": "stream",
     "text": [
      "/home/Pokemon-SV-Datasets/datasets/v2.0/labeling_interface.xml\n"
     ]
    }
   ],
   "source": [
    "root = Element(\"View\")\n",
    "\n",
    "element1 = Element(\"Image\")\n",
    "element1.set(\"name\", \"image\")\n",
    "element1.set(\"value\", \"$image\")\n",
    "root.append(element1)\n",
    "\n",
    "element2 = Element(\"RectangleLabels\")\n",
    "element2.set(\"name\", \"label\")\n",
    "element2.set(\"toName\", \"image\")\n",
    "root.append(element2)\n",
    "\n",
    "for i in tqdm(range(len(df_pokemon_list))):\n",
    "    pokemon_name = df_pokemon_list.loc[i, [\"name\"]].values[0]\n",
    "    if(pokemon_name == pokemon_name):\n",
    "        sub_element2 = SubElement(element2, \"Label\")\n",
    "        sub_element2.set(\"value\", pokemon_name)\n",
    "        sub_element2.set(\"predicted_values\", pokemon_name)\n",
    "        sub_element2.set(\"background\", colorcode_list[i])\n",
    "\n",
    "tree = ElementTree(root)\n",
    "\n",
    "xml_file_name = \"labeling_interface.xml\"\n",
    "xml_file_path = datasets_path + \"/\" + xml_file_name\n",
    "print(xml_file_path)\n",
    "with open(xml_file_path, \"wb\") as file:\n",
    "    tree.write(file, encoding='utf-8', xml_declaration=True)"
   ]
  },
  {
   "cell_type": "markdown",
   "id": "21d4bf62",
   "metadata": {},
   "source": [
    "## 画像をアノテーション"
   ]
  },
  {
   "cell_type": "markdown",
   "id": "f0a1795a-10a0-4b46-95d0-6b9325d21595",
   "metadata": {},
   "source": [
    "こちらのアノテーションソフトを使ってアノテーションしていきます．\n",
    "\n",
    "https://github.com/makiMakiTi/label-studio-1.6.0\n",
    "\n",
    "下記のコマンドにて実行可能です．"
   ]
  },
  {
   "cell_type": "markdown",
   "id": "662bea8a-d0da-4bde-b50f-b93b60c078d8",
   "metadata": {},
   "source": [
    "```bash\n",
    "docker-compose up --build\n",
    "```"
   ]
  },
  {
   "cell_type": "markdown",
   "id": "ac59703c",
   "metadata": {},
   "source": [
    "## アノテーションファイルの修正\n",
    "\n",
    "exportされたアノテーションファイル`datasets\\v0\\result.json`は画像のパスが`COCO`フォーマットになっていないので修正します．\n",
    "\n"
   ]
  },
  {
   "cell_type": "markdown",
   "id": "971dc372",
   "metadata": {},
   "source": [
    "読み込みます"
   ]
  },
  {
   "cell_type": "code",
   "execution_count": 23,
   "id": "db6050eb-3cce-461b-859f-908885a1ddc2",
   "metadata": {},
   "outputs": [],
   "source": [
    "with open(anotate_full, 'rt', encoding='UTF-8') as annotations:\n",
    "    result_coco = json.load(annotations)"
   ]
  },
  {
   "cell_type": "markdown",
   "id": "b1cb3671",
   "metadata": {},
   "source": [
    "パスを修正しファイル名にします．"
   ]
  },
  {
   "cell_type": "code",
   "execution_count": 24,
   "id": "a8e08bc7-9a11-44fa-af09-74c62e8549b6",
   "metadata": {},
   "outputs": [],
   "source": [
    "for i in range(len(result_coco[\"images\"])):\n",
    "    file_name = result_coco[\"images\"][i]['file_name']    \n",
    "    result_coco[\"images\"][i]['file_name'] = file_name.split(\"/\")[-1]"
   ]
  },
  {
   "cell_type": "markdown",
   "id": "58b8a18f",
   "metadata": {},
   "source": [
    "書き出します．"
   ]
  },
  {
   "cell_type": "code",
   "execution_count": 25,
   "id": "e0a279e3-b754-4cf2-b3c0-7f8d3324fbaa",
   "metadata": {},
   "outputs": [],
   "source": [
    "with open(anotate_full_repath, 'wt', encoding='UTF-8') as coco:\n",
    "        json.dump(result_coco, coco, indent=2, sort_keys=True)"
   ]
  },
  {
   "cell_type": "code",
   "execution_count": 26,
   "id": "708705e7-02b4-4d73-9b89-dc48c7ccb1ec",
   "metadata": {},
   "outputs": [
    {
     "data": {
      "text/plain": [
       "'/home/Pokemon-SV-Datasets/datasets/v2.2/result_repath.json'"
      ]
     },
     "execution_count": 26,
     "metadata": {},
     "output_type": "execute_result"
    }
   ],
   "source": [
    "anotate_full_repath"
   ]
  },
  {
   "cell_type": "markdown",
   "id": "921c6d69",
   "metadata": {},
   "source": [
    "## データセットの split"
   ]
  },
  {
   "cell_type": "markdown",
   "id": "1ef36e6a",
   "metadata": {},
   "source": [
    "データセットの分割します．"
   ]
  },
  {
   "cell_type": "code",
   "execution_count": 27,
   "id": "0cc28120-ce93-414a-8953-64ecd03d9ca5",
   "metadata": {},
   "outputs": [
    {
     "name": "stdout",
     "output_type": "stream",
     "text": [
      "Saved 2221 entries in /home/Pokemon-SV-Datasets/datasets/v2.2/pokemon_sv_train.json and 555 in /home/Pokemon-SV-Datasets/datasets/v2.2/pokemon_sv_valid.json\n"
     ]
    }
   ],
   "source": [
    "!python utils/cocosplit.py --having-annotations --multi-class -s 0.8 $anotate_full_repath $anotate_train_path $anotate_valid_path"
   ]
  },
  {
   "cell_type": "code",
   "execution_count": 28,
   "id": "3e97fadb-0625-497b-9917-6a624abd04e3",
   "metadata": {},
   "outputs": [],
   "source": [
    "def move_datasets_image_file(target_dir, anno_path):\n",
    "    \n",
    "    logger.info(\"{:>20} : {}\".format(\"target_dir\", target_dir))\n",
    "    logger.info(\"{:>20} : {}\".format(\"anno_path\", anno_path))\n",
    "    os.makedirs(target_dir, exist_ok=True)\n",
    "    \n",
    "    with open(anno_path, 'rt', encoding='UTF-8') as annotations:\n",
    "        result_coco = json.load(annotations)\n",
    "\n",
    "    for i in tqdm(range(len(result_coco[\"images\"]))):\n",
    "        #logger.info(\">>>>>>>>>>>> {:>20} : {}\".format(\"i\", i))\n",
    "        \n",
    "        file_name = result_coco[\"images\"][i]['file_name']   \n",
    "        #logger.info(\"{:>20} : {}\".format(\"file_name\", file_name))\n",
    "        \n",
    "        source_path =  datasets_path + \"/\" + image_full_dir + \"/\" + file_name\n",
    "        #logger.info(\"{:>20} : {}\".format(\"source_path\", source_path))\n",
    "        \n",
    "        target_path =  target_dir + \"/\" + file_name\n",
    "        #logger.info(\"{:>20} : {}\".format(\"target_path\", target_path))\n",
    "        \n",
    "        shutil.copyfile(source_path, target_path)\n",
    "        \n",
    "    #pprint.pprint(result_coco)"
   ]
  },
  {
   "cell_type": "code",
   "execution_count": 29,
   "id": "a36b47ee-ed03-4d13-af51-551004c9f761",
   "metadata": {},
   "outputs": [
    {
     "name": "stderr",
     "output_type": "stream",
     "text": [
      "2022-11-29 07:08:17.861 | INFO     | __main__:move_datasets_image_file:3 -           target_dir : /home/Pokemon-SV-Datasets/datasets/v2.2/train2017\n",
      "2022-11-29 07:08:17.867 | INFO     | __main__:move_datasets_image_file:4 -            anno_path : /home/Pokemon-SV-Datasets/datasets/v2.2/pokemon_sv_train.json\n",
      "100%|██████████| 837/837 [01:06<00:00, 12.51it/s]\n"
     ]
    }
   ],
   "source": [
    "move_datasets_image_file(target_dir=datasets_path + \"/\" + image_train_dir, anno_path=anotate_train_path)"
   ]
  },
  {
   "cell_type": "code",
   "execution_count": 30,
   "id": "3ac931f6-f7d2-4657-b23a-2573621fc2b8",
   "metadata": {},
   "outputs": [
    {
     "name": "stderr",
     "output_type": "stream",
     "text": [
      "2022-11-29 07:09:24.845 | INFO     | __main__:move_datasets_image_file:3 -           target_dir : /home/Pokemon-SV-Datasets/datasets/v2.2/val2017\n",
      "2022-11-29 07:09:24.847 | INFO     | __main__:move_datasets_image_file:4 -            anno_path : /home/Pokemon-SV-Datasets/datasets/v2.2/pokemon_sv_valid.json\n",
      "100%|██████████| 286/286 [00:23<00:00, 12.27it/s]\n"
     ]
    }
   ],
   "source": [
    "move_datasets_image_file(target_dir=datasets_path + \"/\" + image_valid_dir, anno_path=anotate_valid_path)"
   ]
  },
  {
   "cell_type": "code",
   "execution_count": null,
   "id": "cd371c02-742a-4521-8be9-883dd22d39e0",
   "metadata": {},
   "outputs": [],
   "source": []
  },
  {
   "cell_type": "code",
   "execution_count": null,
   "id": "78f1c627-6239-4b56-af6b-1b0f86cc229d",
   "metadata": {},
   "outputs": [],
   "source": []
  },
  {
   "cell_type": "code",
   "execution_count": 31,
   "id": "2881cbf1-2834-4da7-8253-c84d331efdad",
   "metadata": {},
   "outputs": [
    {
     "name": "stdout",
     "output_type": "stream",
     "text": [
      "Amemoth\n",
      "Ametama\n",
      "Bassrao\n",
      "Buoysel\n",
      "Capsakid\n",
      "Clodsire\n",
      "Delvil\n",
      "Digda\n",
      "Dojoach\n",
      "Donmel\n",
      "Dorobanko\n",
      "Eleson\n",
      "Ennewt\n",
      "Flamigo\n",
      "Flittle\n",
      "Floragato\n",
      "Fuwante\n",
      "Ghos\n",
      "Gomazou\n",
      "Gourton\n",
      "Hanecco\n",
      "Hellgar\n",
      "Himanuts\n",
      "Hinoyakoma\n",
      "Hogator\n",
      "Hoshigarisu\n",
      "Iwanko\n",
      "Kamukame\n",
      "Kirlia\n",
      "Koduck\n",
      "Kofukimushi\n",
      "Koiking\n",
      "Koraidon\n",
      "Kuwassu\n",
      "Makunoshita\n",
      "Mankey\n",
      "Maril\n",
      "Maschiff\n",
      "Meecle\n",
      "Merriep\n",
      "Mibrim\n",
      "Mukubird\n",
      "Nacli\n",
      "Nokocchi\n",
      "Numera\n",
      "Nyahoja\n",
      "Nymble\n",
      "Pamo\n",
      "Pawmo\n",
      "Pichu\n",
      "Pinpuku\n",
      "Popocco\n",
      "Pupimocchi\n",
      "Pupurin\n",
      "Purin\n",
      "Ralts\n",
      "Riolu\n",
      "Ruriri\n",
      "Shikijika\n",
      "Shroodle\n",
      "Sleepe\n",
      "Smoliv\n",
      "Squawkabilly\n",
      "Strike\n",
      "Tadbulb\n",
      "Tamagetake\n",
      "Tandon\n",
      "Tarountula\n",
      "Tyltto\n",
      "Upah\n",
      "Usohachi\n",
      "Watacco\n",
      "Yamikarasu\n",
      "Yayakoma\n",
      "Youngoose\n",
      "player\n"
     ]
    }
   ],
   "source": [
    "c_list = []\n",
    "for c in result_coco['categories']:\n",
    "    print(c['name'])\n",
    "    c_list.append(c['name'])\n",
    "    \n",
    "c_tuple = tuple(c_list)\n",
    "    "
   ]
  },
  {
   "cell_type": "code",
   "execution_count": 32,
   "id": "342f63ee-b108-440f-8ba2-a3d3f01fb407",
   "metadata": {},
   "outputs": [
    {
     "data": {
      "text/plain": [
       "('Amemoth',\n",
       " 'Ametama',\n",
       " 'Bassrao',\n",
       " 'Buoysel',\n",
       " 'Capsakid',\n",
       " 'Clodsire',\n",
       " 'Delvil',\n",
       " 'Digda',\n",
       " 'Dojoach',\n",
       " 'Donmel',\n",
       " 'Dorobanko',\n",
       " 'Eleson',\n",
       " 'Ennewt',\n",
       " 'Flamigo',\n",
       " 'Flittle',\n",
       " 'Floragato',\n",
       " 'Fuwante',\n",
       " 'Ghos',\n",
       " 'Gomazou',\n",
       " 'Gourton',\n",
       " 'Hanecco',\n",
       " 'Hellgar',\n",
       " 'Himanuts',\n",
       " 'Hinoyakoma',\n",
       " 'Hogator',\n",
       " 'Hoshigarisu',\n",
       " 'Iwanko',\n",
       " 'Kamukame',\n",
       " 'Kirlia',\n",
       " 'Koduck',\n",
       " 'Kofukimushi',\n",
       " 'Koiking',\n",
       " 'Koraidon',\n",
       " 'Kuwassu',\n",
       " 'Makunoshita',\n",
       " 'Mankey',\n",
       " 'Maril',\n",
       " 'Maschiff',\n",
       " 'Meecle',\n",
       " 'Merriep',\n",
       " 'Mibrim',\n",
       " 'Mukubird',\n",
       " 'Nacli',\n",
       " 'Nokocchi',\n",
       " 'Numera',\n",
       " 'Nyahoja',\n",
       " 'Nymble',\n",
       " 'Pamo',\n",
       " 'Pawmo',\n",
       " 'Pichu',\n",
       " 'Pinpuku',\n",
       " 'Popocco',\n",
       " 'Pupimocchi',\n",
       " 'Pupurin',\n",
       " 'Purin',\n",
       " 'Ralts',\n",
       " 'Riolu',\n",
       " 'Ruriri',\n",
       " 'Shikijika',\n",
       " 'Shroodle',\n",
       " 'Sleepe',\n",
       " 'Smoliv',\n",
       " 'Squawkabilly',\n",
       " 'Strike',\n",
       " 'Tadbulb',\n",
       " 'Tamagetake',\n",
       " 'Tandon',\n",
       " 'Tarountula',\n",
       " 'Tyltto',\n",
       " 'Upah',\n",
       " 'Usohachi',\n",
       " 'Watacco',\n",
       " 'Yamikarasu',\n",
       " 'Yayakoma',\n",
       " 'Youngoose',\n",
       " 'player')"
      ]
     },
     "execution_count": 32,
     "metadata": {},
     "output_type": "execute_result"
    }
   ],
   "source": [
    "c_tuple"
   ]
  },
  {
   "cell_type": "code",
   "execution_count": null,
   "id": "4b443fea-e534-48dd-a72f-9ec74478da4c",
   "metadata": {},
   "outputs": [],
   "source": []
  }
 ],
 "metadata": {
  "kernelspec": {
   "display_name": "Python 3 (ipykernel)",
   "language": "python",
   "name": "python3"
  },
  "language_info": {
   "codemirror_mode": {
    "name": "ipython",
    "version": 3
   },
   "file_extension": ".py",
   "mimetype": "text/x-python",
   "name": "python",
   "nbconvert_exporter": "python",
   "pygments_lexer": "ipython3",
   "version": "3.11.0"
  }
 },
 "nbformat": 4,
 "nbformat_minor": 5
}
