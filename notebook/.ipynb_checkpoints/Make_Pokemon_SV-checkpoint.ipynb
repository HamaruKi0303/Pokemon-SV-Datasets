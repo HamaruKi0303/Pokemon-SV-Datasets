{
 "cells": [
  {
   "cell_type": "markdown",
   "id": "57bc9df8-42cf-45f0-b40b-ffe9ea741207",
   "metadata": {},
   "source": [
    "# Make Pokemon SV Datasets"
   ]
  },
  {
   "cell_type": "markdown",
   "id": "cfbd0d7a",
   "metadata": {},
   "source": []
  },
  {
   "cell_type": "code",
   "execution_count": 1,
   "id": "9323a118-9d94-49b6-ac72-21e1e9677221",
   "metadata": {},
   "outputs": [],
   "source": [
    "import json\n",
    "import pprint\n",
    "from PIL import Image, ImageFilter\n",
    "from PIL import ImageDraw\n",
    "\n",
    "import glob\n",
    "import re\n",
    "import os\n",
    "from loguru import logger\n",
    "from tqdm import tqdm\n",
    "import numpy as np\n",
    "\n",
    "import cv2\n",
    "import sys\n",
    "import shutil"
   ]
  },
  {
   "cell_type": "markdown",
   "id": "46a672ac-5f07-463d-86ba-812844c782b0",
   "metadata": {},
   "source": [
    "## Setting param"
   ]
  },
  {
   "cell_type": "markdown",
   "id": "3d16b14c",
   "metadata": {},
   "source": [
    "データセットのパスや動画のフォルダなどのパラメーターを設定します．"
   ]
  },
  {
   "cell_type": "code",
   "execution_count": 87,
   "id": "f72a9069-6577-4e84-bb7b-d8299f2666f3",
   "metadata": {},
   "outputs": [],
   "source": [
    "capture_dir = \"capture\"\n",
    "capture_video_dir = \"video\"\n",
    "capture_image_dir = \"image\"\n",
    "\n",
    "capture_video_path = capture_dir + \"/\" + capture_video_dir\n",
    "capture_image_path = capture_dir + \"/\" + capture_image_dir\n",
    "\n",
    "root_path = \"/home\"\n",
    "\n",
    "#diff_image_th = 1000000\n",
    "diff_image_th = 760000000\n",
    "save_freq     = 100\n",
    "\n",
    "datasets_dir  = \"datasets\"\n",
    "datasets_ver  = \"v1.0\"\n",
    "datasets_path = datasets_dir + \"/\" + datasets_ver\n",
    "\n",
    "anotate_full = datasets_path + \"/result.json\"\n",
    "anotate_full_repath = datasets_path + \"/result_repath.json\"\n",
    "\n",
    "anotate_train_name = \"pokemon_sv_train.json\"\n",
    "anotate_train_path = datasets_path + \"/\" + anotate_train_name\n",
    "anotate_valid_name = \"pokemon_sv_valid.json\"\n",
    "anotate_valid_path = datasets_path + \"/\" + anotate_valid_name\n",
    "\n",
    "image_full_dir  = \"images\"\n",
    "image_train_dir = \"train2017\"\n",
    "image_valid_dir = \"val2017\""
   ]
  },
  {
   "cell_type": "code",
   "execution_count": 86,
   "id": "3661777c-0afb-4664-b5b4-af713477beb2",
   "metadata": {},
   "outputs": [
    {
     "name": "stdout",
     "output_type": "stream",
     "text": [
      "/home\n"
     ]
    }
   ],
   "source": [
    "%cd $root_path"
   ]
  },
  {
   "cell_type": "code",
   "execution_count": 73,
   "id": "e865b049-6aaf-4ab0-91d6-d6b8df40a66c",
   "metadata": {},
   "outputs": [
    {
     "name": "stdout",
     "output_type": "stream",
     "text": [
      "Dockerfile  README.md  capture\tdatasets  docker-compose.yml  notebook\tutils\n"
     ]
    }
   ],
   "source": [
    "!ls"
   ]
  },
  {
   "cell_type": "markdown",
   "id": "85793ee2",
   "metadata": {},
   "source": [
    "## キャプチャー動画の分解\n",
    "\n",
    "キャプチャーした動画を分解して画像に変換します．\n",
    "\n",
    "変換のない静止した状態の画像はスキップした上で，`save_freq`フレームごとに画像を保存します．\n"
   ]
  },
  {
   "cell_type": "markdown",
   "id": "0909a5c5",
   "metadata": {},
   "source": [
    "### キャプチャー動画のリストを取得"
   ]
  },
  {
   "cell_type": "code",
   "execution_count": 74,
   "id": "8720db7c-b3d3-4515-91e8-0e022ba36736",
   "metadata": {},
   "outputs": [
    {
     "name": "stdout",
     "output_type": "stream",
     "text": [
      "['capture/video/2022-11-19 16-34-10.mp4']\n"
     ]
    }
   ],
   "source": [
    "glob_path = capture_video_path + \"/*.mp4\"\n",
    "video_list = glob.glob(glob_path, recursive=True)\n",
    "pprint.pprint(video_list)"
   ]
  },
  {
   "cell_type": "markdown",
   "id": "ddb42f2a",
   "metadata": {},
   "source": [
    "### 動画の分解と保存"
   ]
  },
  {
   "cell_type": "code",
   "execution_count": 76,
   "id": "685ab123-aa1a-445a-ad66-cc1bae2683dd",
   "metadata": {},
   "outputs": [],
   "source": [
    "def analysis_video(video_path):\n",
    "    \n",
    "    video_name = video_path.split(\"/\")[-1]\n",
    "    video_single_path = capture_image_path + \"/\" + video_name\n",
    "    logger.info(\"{:>20} : {}\".format(\"video_single_path\", video_single_path))\n",
    "    os.makedirs(video_single_path, exist_ok=True)\n",
    "       \n",
    "    \n",
    "    cap = cv2.VideoCapture(video_path)\n",
    "    total_frame_count = int(cap.get(cv2.CAP_PROP_FRAME_COUNT))\n",
    "    \n",
    "    count = 0\n",
    "    image_id = 1\n",
    "    \n",
    "    for _ in tqdm(range(total_frame_count)):\n",
    "    #while True:\n",
    "        ret, frame = cap.read()\n",
    "\n",
    "        # 読み込み可能かどうか判定\n",
    "        if ret:\n",
    "            #logger.info(\"========================\")\n",
    "            #logger.info(\"{:>20} : {}\".format(\"count\", count))\n",
    "            \n",
    "            # 0番目は pre frameに登録のみで処理はskip\n",
    "            if(count==0):\n",
    "                pre_frame = frame\n",
    "            else:\n",
    "                # 0番目以降は処理\n",
    "                \n",
    "                if(image_id % save_freq == 0):\n",
    "\n",
    "                    # 差分を計算\n",
    "                    diff_image = np.sum(np.abs(pre_frame - frame))\n",
    "                    #logger.info(\"{:>20} : {}\".format(\"diff_image\", diff_image))\n",
    "\n",
    "                    # 閾値以上なら処理する\n",
    "                    if(diff_image > diff_image_th):\n",
    "                        # 一定間隔で画像を保存\n",
    "                        if(image_id % save_freq == 0):\n",
    "                            save_image_name = \"{:09d}.jpg\".format(image_id)\n",
    "                            save_image_path = video_single_path + \"/\" + save_image_name\n",
    "                            #logger.info(\"{:>20} : {}\".format(\"save_image_path\", save_image_path))\n",
    "                            cv2.imwrite(save_image_path, frame)\n",
    "\n",
    "\n",
    "                    pre_frame = frame\n",
    "                \n",
    "                image_id += 1\n",
    "                \n",
    "                \n",
    "            count += 1\n",
    "        else:\n",
    "            logger.info(\"Video Fin ...\")\n",
    "            break\n",
    "            \n",
    "        "
   ]
  },
  {
   "cell_type": "code",
   "execution_count": 77,
   "id": "9de4c68e-47cc-433b-806b-c1a1dc1fbf75",
   "metadata": {},
   "outputs": [],
   "source": [
    "def video_section():\n",
    "    for video_path in video_list:\n",
    "        logger.info(\"{:>20} : {}\".format(\"video_path\", video_path))\n",
    "        analysis_video(video_path)"
   ]
  },
  {
   "cell_type": "code",
   "execution_count": 78,
   "id": "0bbf04f9-4059-4150-a320-223867599a69",
   "metadata": {},
   "outputs": [
    {
     "name": "stderr",
     "output_type": "stream",
     "text": [
      "2022-11-21 04:22:12.957 | INFO     | __main__:video_section:3 -           video_path : capture/video/2022-11-19 16-34-10.mp4\n",
      "2022-11-21 04:22:12.960 | INFO     | __main__:analysis_video:5 -    video_single_path : capture/image/2022-11-19 16-34-10.mp4\n",
      "100%|█████████▉| 76408/76429 [05:43<00:00, 227.59it/s]2022-11-21 04:27:56.401 | INFO     | __main__:analysis_video:53 - Video Fin ...\n",
      "100%|█████████▉| 76428/76429 [05:43<00:00, 222.63it/s]\n"
     ]
    }
   ],
   "source": [
    "video_section()"
   ]
  },
  {
   "cell_type": "markdown",
   "id": "21d4bf62",
   "metadata": {},
   "source": [
    "## 画像をアノテーション"
   ]
  },
  {
   "cell_type": "markdown",
   "id": "ac59703c",
   "metadata": {},
   "source": [
    "## アノテーションファイルの修正\n",
    "\n",
    "exportされたアノテーションファイル`datasets\\v0\\result.json`は画像のパスが`COCO`フォーマットになっていないので修正します．\n",
    "\n"
   ]
  },
  {
   "cell_type": "markdown",
   "id": "971dc372",
   "metadata": {},
   "source": [
    "anotate_full読み込みます"
   ]
  },
  {
   "cell_type": "code",
   "execution_count": 89,
   "id": "5b56c3bf-7cd9-4b58-bdd3-d218294607a3",
   "metadata": {},
   "outputs": [
    {
     "data": {
      "text/plain": [
       "'datasets/v1.0/result.json'"
      ]
     },
     "execution_count": 89,
     "metadata": {},
     "output_type": "execute_result"
    }
   ],
   "source": [
    "anotate_full"
   ]
  },
  {
   "cell_type": "code",
   "execution_count": 90,
   "id": "db6050eb-3cce-461b-859f-908885a1ddc2",
   "metadata": {},
   "outputs": [],
   "source": [
    "with open(anotate_full, 'rt', encoding='UTF-8') as annotations:\n",
    "    result_coco = json.load(annotations)"
   ]
  },
  {
   "cell_type": "markdown",
   "id": "b1cb3671",
   "metadata": {},
   "source": [
    "パスを修正しファイル名にします．"
   ]
  },
  {
   "cell_type": "code",
   "execution_count": 91,
   "id": "a8e08bc7-9a11-44fa-af09-74c62e8549b6",
   "metadata": {},
   "outputs": [],
   "source": [
    "for i in range(len(result_coco[\"images\"])):\n",
    "    file_name = result_coco[\"images\"][i]['file_name']    \n",
    "    result_coco[\"images\"][i]['file_name'] = file_name.split(\"/\")[-1]"
   ]
  },
  {
   "cell_type": "markdown",
   "id": "58b8a18f",
   "metadata": {},
   "source": [
    "書き出します．"
   ]
  },
  {
   "cell_type": "code",
   "execution_count": 92,
   "id": "e0a279e3-b754-4cf2-b3c0-7f8d3324fbaa",
   "metadata": {},
   "outputs": [],
   "source": [
    "with open(anotate_full_repath, 'wt', encoding='UTF-8') as coco:\n",
    "        json.dump(result_coco, coco, indent=2, sort_keys=True)"
   ]
  },
  {
   "cell_type": "code",
   "execution_count": 93,
   "id": "380db217-2000-4e3e-b809-b6d0c18abe96",
   "metadata": {},
   "outputs": [
    {
     "data": {
      "text/plain": [
       "'datasets/v1.0/result_repath.json'"
      ]
     },
     "execution_count": 93,
     "metadata": {},
     "output_type": "execute_result"
    }
   ],
   "source": [
    "anotate_full_repath"
   ]
  },
  {
   "cell_type": "markdown",
   "id": "921c6d69",
   "metadata": {},
   "source": [
    "## データセットの split"
   ]
  },
  {
   "cell_type": "markdown",
   "id": "1ef36e6a",
   "metadata": {},
   "source": [
    "データセットの分割します．"
   ]
  },
  {
   "cell_type": "code",
   "execution_count": 94,
   "id": "0cc28120-ce93-414a-8953-64ecd03d9ca5",
   "metadata": {},
   "outputs": [
    {
     "name": "stdout",
     "output_type": "stream",
     "text": [
      "Saved 625 entries in datasets/v1.0/pokemon_sv_train.json and 157 in datasets/v1.0/pokemon_sv_valid.json\n"
     ]
    }
   ],
   "source": [
    "!python utils/cocosplit.py --having-annotations --multi-class -s 0.8 $anotate_full_repath $anotate_train_path $anotate_valid_path"
   ]
  },
  {
   "cell_type": "code",
   "execution_count": 98,
   "id": "3e97fadb-0625-497b-9917-6a624abd04e3",
   "metadata": {},
   "outputs": [],
   "source": [
    "def move_datasets_image_file(target_dir, anno_path):\n",
    "    \n",
    "    logger.info(\"{:>20} : {}\".format(\"target_dir\", target_dir))\n",
    "    logger.info(\"{:>20} : {}\".format(\"anno_path\", anno_path))\n",
    "    os.makedirs(target_dir, exist_ok=True)\n",
    "    \n",
    "    with open(anno_path, 'rt', encoding='UTF-8') as annotations:\n",
    "        result_coco = json.load(annotations)\n",
    "\n",
    "    for i in tqdm(range(len(result_coco[\"images\"]))):\n",
    "        #logger.info(\">>>>>>>>>>>> {:>20} : {}\".format(\"i\", i))\n",
    "        \n",
    "        file_name = result_coco[\"images\"][i]['file_name']   \n",
    "        #logger.info(\"{:>20} : {}\".format(\"file_name\", file_name))\n",
    "        \n",
    "        source_path =  datasets_path + \"/\" + image_full_dir + \"/\" + file_name\n",
    "        #logger.info(\"{:>20} : {}\".format(\"source_path\", source_path))\n",
    "        \n",
    "        target_path =  target_dir + \"/\" + file_name\n",
    "        #logger.info(\"{:>20} : {}\".format(\"target_path\", target_path))\n",
    "        \n",
    "        shutil.copyfile(source_path, target_path)\n",
    "        \n",
    "    #pprint.pprint(result_coco)"
   ]
  },
  {
   "cell_type": "code",
   "execution_count": 99,
   "id": "a36b47ee-ed03-4d13-af51-551004c9f761",
   "metadata": {},
   "outputs": [
    {
     "name": "stderr",
     "output_type": "stream",
     "text": [
      "2022-11-21 06:13:39.658 | INFO     | __main__:move_datasets_image_file:3 -           target_dir : datasets/v1.0/train2017\n",
      "2022-11-21 06:13:39.659 | INFO     | __main__:move_datasets_image_file:4 -            anno_path : datasets/v1.0/pokemon_sv_train.json\n",
      "  0%|          | 0/268 [00:00<?, ?it/s]2022-11-21 06:13:39.698 | INFO     | __main__:move_datasets_image_file:11 - >>>>>>>>>>>>                    i : 0\n",
      "2022-11-21 06:13:39.782 | INFO     | __main__:move_datasets_image_file:11 - >>>>>>>>>>>>                    i : 1\n",
      "  1%|          | 2/268 [00:00<00:22, 11.91it/s]2022-11-21 06:13:39.867 | INFO     | __main__:move_datasets_image_file:11 - >>>>>>>>>>>>                    i : 2\n",
      "2022-11-21 06:13:39.963 | INFO     | __main__:move_datasets_image_file:11 - >>>>>>>>>>>>                    i : 3\n",
      "  1%|▏         | 4/268 [00:00<00:23, 11.42it/s]2022-11-21 06:13:40.047 | INFO     | __main__:move_datasets_image_file:11 - >>>>>>>>>>>>                    i : 4\n",
      "2022-11-21 06:13:40.134 | INFO     | __main__:move_datasets_image_file:11 - >>>>>>>>>>>>                    i : 5\n",
      "  2%|▏         | 6/268 [00:00<00:27,  9.57it/s]2022-11-21 06:13:40.297 | INFO     | __main__:move_datasets_image_file:11 - >>>>>>>>>>>>                    i : 6\n",
      "2022-11-21 06:13:40.390 | INFO     | __main__:move_datasets_image_file:11 - >>>>>>>>>>>>                    i : 7\n",
      "  3%|▎         | 8/268 [00:00<00:26,  9.93it/s]2022-11-21 06:13:40.486 | INFO     | __main__:move_datasets_image_file:11 - >>>>>>>>>>>>                    i : 8\n",
      "2022-11-21 06:13:40.575 | INFO     | __main__:move_datasets_image_file:11 - >>>>>>>>>>>>                    i : 9\n",
      "  4%|▎         | 10/268 [00:00<00:24, 10.58it/s]2022-11-21 06:13:40.653 | INFO     | __main__:move_datasets_image_file:11 - >>>>>>>>>>>>                    i : 10\n",
      "2022-11-21 06:13:40.734 | INFO     | __main__:move_datasets_image_file:11 - >>>>>>>>>>>>                    i : 11\n",
      "  4%|▍         | 12/268 [00:01<00:22, 11.14it/s]2022-11-21 06:13:40.814 | INFO     | __main__:move_datasets_image_file:11 - >>>>>>>>>>>>                    i : 12\n",
      "2022-11-21 06:13:40.893 | INFO     | __main__:move_datasets_image_file:11 - >>>>>>>>>>>>                    i : 13\n",
      "  5%|▌         | 14/268 [00:01<00:21, 11.88it/s]2022-11-21 06:13:40.960 | INFO     | __main__:move_datasets_image_file:11 - >>>>>>>>>>>>                    i : 14\n",
      "2022-11-21 06:13:41.034 | INFO     | __main__:move_datasets_image_file:11 - >>>>>>>>>>>>                    i : 15\n",
      "  6%|▌         | 16/268 [00:01<00:20, 12.24it/s]2022-11-21 06:13:41.113 | INFO     | __main__:move_datasets_image_file:11 - >>>>>>>>>>>>                    i : 16\n",
      "2022-11-21 06:13:41.188 | INFO     | __main__:move_datasets_image_file:11 - >>>>>>>>>>>>                    i : 17\n",
      "  7%|▋         | 18/268 [00:01<00:26,  9.53it/s]2022-11-21 06:13:41.425 | INFO     | __main__:move_datasets_image_file:11 - >>>>>>>>>>>>                    i : 18\n",
      "2022-11-21 06:13:41.530 | INFO     | __main__:move_datasets_image_file:11 - >>>>>>>>>>>>                    i : 19\n",
      "  7%|▋         | 20/268 [00:01<00:24,  9.95it/s]2022-11-21 06:13:41.606 | INFO     | __main__:move_datasets_image_file:11 - >>>>>>>>>>>>                    i : 20\n",
      "2022-11-21 06:13:41.689 | INFO     | __main__:move_datasets_image_file:11 - >>>>>>>>>>>>                    i : 21\n",
      "  8%|▊         | 22/268 [00:02<00:23, 10.55it/s]2022-11-21 06:13:41.769 | INFO     | __main__:move_datasets_image_file:11 - >>>>>>>>>>>>                    i : 22\n",
      "2022-11-21 06:13:41.849 | INFO     | __main__:move_datasets_image_file:11 - >>>>>>>>>>>>                    i : 23\n",
      "  9%|▉         | 24/268 [00:02<00:21, 11.13it/s]2022-11-21 06:13:41.926 | INFO     | __main__:move_datasets_image_file:11 - >>>>>>>>>>>>                    i : 24\n",
      "2022-11-21 06:13:42.022 | INFO     | __main__:move_datasets_image_file:11 - >>>>>>>>>>>>                    i : 25\n",
      " 10%|▉         | 26/268 [00:02<00:22, 10.94it/s]2022-11-21 06:13:42.117 | INFO     | __main__:move_datasets_image_file:11 - >>>>>>>>>>>>                    i : 26\n",
      "2022-11-21 06:13:42.207 | INFO     | __main__:move_datasets_image_file:11 - >>>>>>>>>>>>                    i : 27\n",
      " 10%|█         | 28/268 [00:02<00:21, 11.06it/s]2022-11-21 06:13:42.293 | INFO     | __main__:move_datasets_image_file:11 - >>>>>>>>>>>>                    i : 28\n",
      "2022-11-21 06:13:42.482 | INFO     | __main__:move_datasets_image_file:11 - >>>>>>>>>>>>                    i : 29\n",
      " 11%|█         | 30/268 [00:02<00:24,  9.57it/s]2022-11-21 06:13:42.567 | INFO     | __main__:move_datasets_image_file:11 - >>>>>>>>>>>>                    i : 30\n",
      "2022-11-21 06:13:42.651 | INFO     | __main__:move_datasets_image_file:11 - >>>>>>>>>>>>                    i : 31\n",
      " 12%|█▏        | 32/268 [00:03<00:23, 10.18it/s]2022-11-21 06:13:42.735 | INFO     | __main__:move_datasets_image_file:11 - >>>>>>>>>>>>                    i : 32\n",
      "2022-11-21 06:13:42.832 | INFO     | __main__:move_datasets_image_file:11 - >>>>>>>>>>>>                    i : 33\n",
      " 13%|█▎        | 34/268 [00:03<00:22, 10.45it/s]2022-11-21 06:13:42.914 | INFO     | __main__:move_datasets_image_file:11 - >>>>>>>>>>>>                    i : 34\n",
      "2022-11-21 06:13:43.000 | INFO     | __main__:move_datasets_image_file:11 - >>>>>>>>>>>>                    i : 35\n",
      " 13%|█▎        | 36/268 [00:03<00:21, 10.86it/s]2022-11-21 06:13:43.081 | INFO     | __main__:move_datasets_image_file:11 - >>>>>>>>>>>>                    i : 36\n",
      "2022-11-21 06:13:43.169 | INFO     | __main__:move_datasets_image_file:11 - >>>>>>>>>>>>                    i : 37\n",
      " 14%|█▍        | 38/268 [00:03<00:20, 11.08it/s]2022-11-21 06:13:43.253 | INFO     | __main__:move_datasets_image_file:11 - >>>>>>>>>>>>                    i : 38\n",
      "2022-11-21 06:13:43.337 | INFO     | __main__:move_datasets_image_file:11 - >>>>>>>>>>>>                    i : 39\n",
      " 15%|█▍        | 40/268 [00:03<00:20, 11.40it/s]2022-11-21 06:13:43.417 | INFO     | __main__:move_datasets_image_file:11 - >>>>>>>>>>>>                    i : 40\n",
      "2022-11-21 06:13:43.560 | INFO     | __main__:move_datasets_image_file:11 - >>>>>>>>>>>>                    i : 41\n",
      " 16%|█▌        | 42/268 [00:03<00:22, 10.23it/s]2022-11-21 06:13:43.660 | INFO     | __main__:move_datasets_image_file:11 - >>>>>>>>>>>>                    i : 42\n",
      "2022-11-21 06:13:43.781 | INFO     | __main__:move_datasets_image_file:11 - >>>>>>>>>>>>                    i : 43\n",
      " 16%|█▋        | 44/268 [00:04<00:22,  9.99it/s]2022-11-21 06:13:43.870 | INFO     | __main__:move_datasets_image_file:11 - >>>>>>>>>>>>                    i : 44\n",
      "2022-11-21 06:13:43.964 | INFO     | __main__:move_datasets_image_file:11 - >>>>>>>>>>>>                    i : 45\n",
      " 17%|█▋        | 46/268 [00:04<00:21, 10.21it/s]2022-11-21 06:13:44.056 | INFO     | __main__:move_datasets_image_file:11 - >>>>>>>>>>>>                    i : 46\n",
      "2022-11-21 06:13:44.154 | INFO     | __main__:move_datasets_image_file:11 - >>>>>>>>>>>>                    i : 47\n",
      " 18%|█▊        | 48/268 [00:04<00:21, 10.37it/s]2022-11-21 06:13:44.242 | INFO     | __main__:move_datasets_image_file:11 - >>>>>>>>>>>>                    i : 48\n",
      " 18%|█▊        | 48/268 [00:04<00:21, 10.35it/s]\n"
     ]
    },
    {
     "ename": "KeyboardInterrupt",
     "evalue": "",
     "output_type": "error",
     "traceback": [
      "\u001b[0;31m---------------------------------------------------------------------------\u001b[0m",
      "\u001b[0;31mKeyboardInterrupt\u001b[0m                         Traceback (most recent call last)",
      "Cell \u001b[0;32mIn [99], line 1\u001b[0m\n\u001b[0;32m----> 1\u001b[0m \u001b[43mmove_datasets_image_file\u001b[49m\u001b[43m(\u001b[49m\u001b[43mtarget_dir\u001b[49m\u001b[38;5;241;43m=\u001b[39;49m\u001b[43mdatasets_path\u001b[49m\u001b[43m \u001b[49m\u001b[38;5;241;43m+\u001b[39;49m\u001b[43m \u001b[49m\u001b[38;5;124;43m\"\u001b[39;49m\u001b[38;5;124;43m/\u001b[39;49m\u001b[38;5;124;43m\"\u001b[39;49m\u001b[43m \u001b[49m\u001b[38;5;241;43m+\u001b[39;49m\u001b[43m \u001b[49m\u001b[43mimage_train_dir\u001b[49m\u001b[43m,\u001b[49m\u001b[43m \u001b[49m\u001b[43manno_path\u001b[49m\u001b[38;5;241;43m=\u001b[39;49m\u001b[43manotate_train_path\u001b[49m\u001b[43m)\u001b[49m\n",
      "Cell \u001b[0;32mIn [98], line 22\u001b[0m, in \u001b[0;36mmove_datasets_image_file\u001b[0;34m(target_dir, anno_path)\u001b[0m\n\u001b[1;32m     19\u001b[0m target_path \u001b[38;5;241m=\u001b[39m  target_dir \u001b[38;5;241m+\u001b[39m \u001b[38;5;124m\"\u001b[39m\u001b[38;5;124m/\u001b[39m\u001b[38;5;124m\"\u001b[39m \u001b[38;5;241m+\u001b[39m file_name\n\u001b[1;32m     20\u001b[0m \u001b[38;5;66;03m#logger.info(\"{:>20} : {}\".format(\"target_path\", target_path))\u001b[39;00m\n\u001b[0;32m---> 22\u001b[0m \u001b[43mshutil\u001b[49m\u001b[38;5;241;43m.\u001b[39;49m\u001b[43mcopyfile\u001b[49m\u001b[43m(\u001b[49m\u001b[43msource_path\u001b[49m\u001b[43m,\u001b[49m\u001b[43m \u001b[49m\u001b[43mtarget_path\u001b[49m\u001b[43m)\u001b[49m\n",
      "File \u001b[0;32m/usr/local/lib/python3.11/shutil.py:269\u001b[0m, in \u001b[0;36mcopyfile\u001b[0;34m(src, dst, follow_symlinks)\u001b[0m\n\u001b[1;32m    267\u001b[0m \u001b[38;5;28;01melif\u001b[39;00m _USE_CP_SENDFILE:\n\u001b[1;32m    268\u001b[0m     \u001b[38;5;28;01mtry\u001b[39;00m:\n\u001b[0;32m--> 269\u001b[0m         \u001b[43m_fastcopy_sendfile\u001b[49m\u001b[43m(\u001b[49m\u001b[43mfsrc\u001b[49m\u001b[43m,\u001b[49m\u001b[43m \u001b[49m\u001b[43mfdst\u001b[49m\u001b[43m)\u001b[49m\n\u001b[1;32m    270\u001b[0m         \u001b[38;5;28;01mreturn\u001b[39;00m dst\n\u001b[1;32m    271\u001b[0m     \u001b[38;5;28;01mexcept\u001b[39;00m _GiveupOnFastCopy:\n",
      "File \u001b[0;32m/usr/local/lib/python3.11/shutil.py:144\u001b[0m, in \u001b[0;36m_fastcopy_sendfile\u001b[0;34m(fsrc, fdst)\u001b[0m\n\u001b[1;32m    142\u001b[0m \u001b[38;5;28;01mwhile\u001b[39;00m \u001b[38;5;28;01mTrue\u001b[39;00m:\n\u001b[1;32m    143\u001b[0m     \u001b[38;5;28;01mtry\u001b[39;00m:\n\u001b[0;32m--> 144\u001b[0m         sent \u001b[38;5;241m=\u001b[39m os\u001b[38;5;241m.\u001b[39msendfile(outfd, infd, offset, blocksize)\n\u001b[1;32m    145\u001b[0m     \u001b[38;5;28;01mexcept\u001b[39;00m \u001b[38;5;167;01mOSError\u001b[39;00m \u001b[38;5;28;01mas\u001b[39;00m err:\n\u001b[1;32m    146\u001b[0m         \u001b[38;5;66;03m# ...in oder to have a more informative exception.\u001b[39;00m\n\u001b[1;32m    147\u001b[0m         err\u001b[38;5;241m.\u001b[39mfilename \u001b[38;5;241m=\u001b[39m fsrc\u001b[38;5;241m.\u001b[39mname\n",
      "\u001b[0;31mKeyboardInterrupt\u001b[0m: "
     ]
    }
   ],
   "source": [
    "move_datasets_image_file(target_dir=datasets_path + \"/\" + image_train_dir, anno_path=anotate_train_path)"
   ]
  },
  {
   "cell_type": "code",
   "execution_count": null,
   "id": "3ac931f6-f7d2-4657-b23a-2573621fc2b8",
   "metadata": {},
   "outputs": [],
   "source": [
    "move_datasets_image_file(target_dir=datasets_path + \"/\" + image_valid_dir, anno_path=anotate_valid_path)"
   ]
  },
  {
   "cell_type": "code",
   "execution_count": null,
   "id": "cd371c02-742a-4521-8be9-883dd22d39e0",
   "metadata": {},
   "outputs": [],
   "source": []
  }
 ],
 "metadata": {
  "kernelspec": {
   "display_name": "Python 3 (ipykernel)",
   "language": "python",
   "name": "python3"
  },
  "language_info": {
   "codemirror_mode": {
    "name": "ipython",
    "version": 3
   },
   "file_extension": ".py",
   "mimetype": "text/x-python",
   "name": "python",
   "nbconvert_exporter": "python",
   "pygments_lexer": "ipython3",
   "version": "3.11.0"
  }
 },
 "nbformat": 4,
 "nbformat_minor": 5
}
